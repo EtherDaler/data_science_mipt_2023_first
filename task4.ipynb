{
 "cells": [
  {
   "cell_type": "markdown",
   "metadata": {
    "pycharm": {
     "name": "#%% md\n"
    }
   },
   "source": [
    "# <a href=\"https://miptstats.github.io/courses/ad_fivt.html\">Введение в анализ данных</a>\n",
    "## Домашнее задание 4. Анализ вакансий.\n"
   ]
  },
  {
   "cell_type": "markdown",
   "metadata": {
    "pycharm": {
     "name": "#%% md\n"
    }
   },
   "source": [
    "**Правила, <font color=\"red\">прочитайте внимательно</font>:**\n",
    "\n",
    "* Выполненную работу нужно отправить телеграм-боту `@miptstats_ds23_bot`. Для начала работы с ботом каждый раз отправляйте `/start`. Дождитесь подтверждения от бота, что он принял файл. Если подтверждения нет, то что-то не так. **Работы, присланные иным способом, не принимаются.**\n",
    "* Дедлайн см. в боте. После дедлайна работы не принимаются кроме случаев наличия уважительной причины.\n",
    "* Прислать нужно **ноутбук в формате `ipynb` и полученные данные** (подробности далее). Если вы строите интерактивные графики, их стоит прислать в формате html.\n",
    "* Следите за размером файлов. **Бот не может принимать файлы весом более 20 Мб.** Если файл получается больше, заранее разделите его на несколько.\n",
    "* Будьте внимательны при работе со сбором данных. Ответственность за корректность ваших действий лежит на вас. Не нагружайте сервера, *делайте паузы между запросами*. Как следствие, начинайте выполнять задание заранее. **Если вас где-то забаннили и т.п., то это не является уважительной причиной продления дедлайна.**\n",
    "* Выполнять задание необходимо полностью самостоятельно. **При обнаружении списывания все участники списывания будут сдавать устный зачет.**\n",
    "* Решения, размещенные на каких-либо интернет-ресурсах, не принимаются. Кроме того, публикация решения в открытом доступе может быть приравнена к предоставлении возможности списать.\n",
    "* Для выполнения задания используйте этот ноутбук в качестве основы, ничего не удаляя из него. Можно добавлять необходимое количество ячеек.\n",
    "* Комментарии к решению пишите в markdown-ячейках.\n",
    "* Выполнение задания (ход решения, выводы и пр.) должно быть осуществлено на русском языке.\n",
    "* Если код будет не понятен проверяющему, оценка может быть снижена.\n",
    "* Никакой код из данного задания при проверке запускаться не будет. *Если код студента не выполнен, недописан и т.д., то он не оценивается.*\n",
    "\n",
    "**Перед выполнением задания посмотрите презентацию по выполнению и оформлению домашних заданий с занятия 2.**\n",
    "\n",
    "---\n",
    "\n",
    "**Баллы за задание:**\n",
    "\n",
    "<b><a href=\"#Легкая-часть\" style=\"text-decoration: none;\"><font color=\"blue\">Легкая часть</font></a></b> (достаточно на \"хор\"):\n",
    "* Задача 1 &mdash; 60 баллов\n",
    "\n",
    "<b><a href=\"#Сложная-часть\" style=\"text-decoration: none;\"><font color=\"orange\">Сложная часть</font></a></b> (необходимо на \"отл\"):\n",
    "* Задача 2 &mdash; 60 баллов"
   ]
  },
  {
   "cell_type": "code",
   "execution_count": 1,
   "metadata": {
    "pycharm": {
     "name": "#%%\n"
    }
   },
   "outputs": [],
   "source": [
    "# Bot check\n",
    "\n",
    "# HW_ID: fpmi_ad4\n",
    "# Бот проверит этот ID и предупредит, если случайно сдать что-то не то.\n",
    "\n",
    "# Status: not final\n",
    "# Перед отправкой в финальном решении удали \"not\" в строчке выше.\n",
    "# Так бот проверит, что ты отправляешь финальную версию, а не промежуточную.\n",
    "# Никакие значения в этой ячейке не влияют на факт сдачи работы."
   ]
  },
  {
   "cell_type": "code",
   "execution_count": 90,
   "metadata": {
    "colab": {},
    "colab_type": "code",
    "id": "ht9Xm0EucoAr",
    "pycharm": {
     "name": "#%%\n"
    }
   },
   "outputs": [],
   "source": [
    "import time\n",
    "\n",
    "import requests\n",
    "from time import sleep\n",
    "import json\n",
    "\n",
    "import numpy as np\n",
    "import pandas as pd\n",
    "import matplotlib.pyplot as plt\n",
    "import seaborn as sns\n",
    "\n",
    "sns.set(style='whitegrid', font_scale=1.3, palette='Set2')\n",
    "%matplotlib inline"
   ]
  },
  {
   "attachments": {},
   "cell_type": "markdown",
   "metadata": {
    "pycharm": {
     "name": "#%% md\n"
    }
   },
   "source": [
    "\n",
    "Второй курс &mdash; самое время задуматься о будущей профессии и проанализировать существующие предложения. Дело тут даже не в том, чтобы найти интересную стажировку. В первую очередь сейчас стоит подумать о том, в какую сторону развиваться дальше. Например, если вы хотите работать в какой-либо конкретной профессии, то наверняка стоит развивать какие-то определенные навыки, и даже выбрать подходящую кафедру. Анализ существующих вакансий поможет определить, какие навыки вам нужны. \n",
    "\n",
    "Задание предполагает вариативность исследуемых данных. Вы можете выбрать один из следующих вариантов.\n",
    "1. Стандартный вариант &mdash; проанализировать вакансии на сайте <a target=\"_blank\" href=\"https://hh.ru/\">hh.ru</a> с использованием <a target=\"_blank\" href=\"https://dev.hh.ru/\">официального API</a>. Далее приведен пример работы с этим API. *Если вы не достаточно уверены в своих силах, рекомендуется выбрать этот вариант.*\n",
    "2. Разобраться с API других сервисов по поиску вакансий, например, <a target=\"_blank\" href=\"https://career.habr.com/\">Хабр.Карьера</a> или <a target=\"_blank\" href=\"https://www.superjob.ru/\">SuperJob</a>.\n",
    "3. Извлечение данных с помощью <a target=\"_blank\" href=\"https://miptstats.github.io/courses/ad_fivt/data_parsing.html#2.-Парсинг-HTML-напрямую\">парсинга HTML напрямую</a> некоторых сайтов. Например, вы можете попробовать напрямую распарсить пул вакансий из тех источников, которые не предоставляют API. **Внимание! Обращайте внимание на пользовательские соглашения и на <a target=\"_blank\" href=\"https://miptstats.github.io/courses/ad_fivt/data_parsing.html#Сбор-данных-из-открытых-источников\">эти рекомендации</a>.**\n",
    "4. Комбинирование нескольких подходов. В этом случае нужно понимать, как находить одинаковые вакансии из разных источников для избежания их двойного учета.\n",
    "5. Можно также *дополнительно* брать архивные данные из недавнего прошлого, например, из <a target=\"_blank\" href=\"https://boosters.pro/championship/HeadHunter/overview/description\">этого соревнования</a>.\n",
    "\n",
    "Перед выполнением задания ознакомьтесь с <a target=\"_blank\" href=\"https://miptstats.github.io/courses/ad_fivt/data_parsing.html\">материалом</a> о сборе данных из открытых источников.\n",
    "\n",
    "Для получения максимального балла за задание достаточно выполнить все задание по стандартному варианту. Альтернативные варианты, даже более сложные, не дают больше баллов, чем максимальное количество баллов по стандартному варианту.\n",
    "\n",
    "Работа в некоторой степени творческая, поэтому конкретные детали решения в основном остаются на усмотрение автора решения. Например, если в вакансии зарплата укзана \"*от ...*\" или  \"*до ...*\", то вы сами решаете, как это обрабатывать, но не забывайте про четкую аргументацию. Не забывайте также заглядывать в презентацию по выполнению и оформлению домашних заданий с занятия 2."
   ]
  },
  {
   "cell_type": "markdown",
   "metadata": {
    "pycharm": {
     "name": "#%% md\n"
    }
   },
   "source": [
    " ---\n",
    "### Справка по работе с API сервиса hh.ru.   \n",
    "\n",
    "<b><font color=\"red\">Внимание!</font> При работе с API не забывайте делать паузы между запросами, чтобы не задудосить сервер. Если вас заблокируют, это не будет являться уважительной причиной переноса дедлайна.</b>\n",
    "\n",
    "Мы будем работать только с вакансиями. Для этого не требуется регистрироваться и получать токен. Ниже приведен краткий пример работы с API. Подробное описание работы с вакансиями, включая параметры запросов и формат ответа можно почитать в <a target=\"_blank\" href=\"https://github.com/hhru/api/blob/master/docs/vacancies.md#search\">документации</a>.\n",
    "\n",
    "Например, мы хотим найти вакансии по запросу `Data Scientist` в Москве. Тогда первую страницу поиска из 10 вакансий на страницу мы можем получить с запроса к API:"
   ]
  },
  {
   "cell_type": "code",
   "execution_count": 6,
   "metadata": {
    "pycharm": {
     "name": "#%%\n"
    }
   },
   "outputs": [],
   "source": [
    "URL = 'https://api.hh.ru/vacancies'\n",
    "\n",
    "params = {\n",
    "    'text': \"Data Scientist\",\n",
    "    'area': 1,\n",
    "    'page': 0,\n",
    "    'per_page': 10\n",
    "}\n",
    "\n",
    "req = requests.get(URL, params)\n",
    "data = json.loads(req.content.decode())"
   ]
  },
  {
   "cell_type": "markdown",
   "metadata": {
    "pycharm": {
     "name": "#%% md\n"
    }
   },
   "source": [
    "Если все прошло успешно, полученный словарь будет иметь следующие ключи"
   ]
  },
  {
   "cell_type": "code",
   "execution_count": 3,
   "metadata": {
    "pycharm": {
     "name": "#%%\n"
    }
   },
   "outputs": [
    {
     "data": {
      "text/plain": [
       "dict_keys(['items', 'found', 'pages', 'per_page', 'page', 'clusters', 'arguments', 'alternate_url'])"
      ]
     },
     "execution_count": 3,
     "metadata": {},
     "output_type": "execute_result"
    }
   ],
   "source": [
    "data.keys()"
   ]
  },
  {
   "cell_type": "markdown",
   "metadata": {
    "pycharm": {
     "name": "#%% md\n"
    }
   },
   "source": [
    "Можем посмотреть на краткое описание первой вакансии"
   ]
  },
  {
   "cell_type": "code",
   "execution_count": 4,
   "metadata": {
    "scrolled": false,
    "pycharm": {
     "name": "#%%\n"
    }
   },
   "outputs": [
    {
     "data": {
      "text/plain": [
       "{'id': '74376536',\n",
       " 'premium': False,\n",
       " 'name': 'Data scientist',\n",
       " 'department': None,\n",
       " 'has_test': False,\n",
       " 'response_letter_required': False,\n",
       " 'area': {'id': '1', 'name': 'Москва', 'url': 'https://api.hh.ru/areas/1'},\n",
       " 'salary': {'from': 200000, 'to': 240000, 'currency': 'RUR', 'gross': False},\n",
       " 'type': {'id': 'open', 'name': 'Открытая'},\n",
       " 'address': {'city': 'Москва',\n",
       "  'street': 'Походный проезд',\n",
       "  'building': '14',\n",
       "  'lat': 55.838091,\n",
       "  'lng': 37.417167,\n",
       "  'description': None,\n",
       "  'raw': 'Москва, Походный проезд, 14',\n",
       "  'metro': None,\n",
       "  'metro_stations': [],\n",
       "  'id': '953346'},\n",
       " 'response_url': None,\n",
       " 'sort_point_distance': None,\n",
       " 'published_at': '2023-02-23T13:01:29+0300',\n",
       " 'created_at': '2023-02-23T13:01:29+0300',\n",
       " 'archived': False,\n",
       " 'apply_alternate_url': 'https://hh.ru/applicant/vacancy_response?vacancyId=74376536',\n",
       " 'insider_interview': None,\n",
       " 'url': 'https://api.hh.ru/vacancies/74376536?host=hh.ru',\n",
       " 'adv_response_url': None,\n",
       " 'alternate_url': 'https://hh.ru/vacancy/74376536',\n",
       " 'relations': [],\n",
       " 'employer': {'id': '606',\n",
       "  'name': 'Астор',\n",
       "  'url': 'https://api.hh.ru/employers/606',\n",
       "  'alternate_url': 'https://hh.ru/employer/606',\n",
       "  'logo_urls': {'original': 'https://hhcdn.ru/employer-logo-original/895922.png',\n",
       "   '90': 'https://hhcdn.ru/employer-logo/4024375.png',\n",
       "   '240': 'https://hhcdn.ru/employer-logo/4024376.png'},\n",
       "  'vacancies_url': 'https://api.hh.ru/vacancies?employer_id=606',\n",
       "  'trusted': True},\n",
       " 'snippet': {'requirement': 'Опыт работы на позиции <highlighttext>data</highlighttext> <highlighttext>scientist</highlighttext> от 2ух лет. Знание основных алгоритмов и метрик машинного обучения. Ключевые навыки: Python...',\n",
       "  'responsibility': 'Работа в команде по созданию модуля <highlighttext>Data</highlighttext> Science & AI, отвечающего за обработку данных, консолидированных в хранилище, и интеллектуальное обеспечение различных...'},\n",
       " 'contacts': None,\n",
       " 'schedule': {'id': 'remote', 'name': 'Удаленная работа'},\n",
       " 'working_days': [],\n",
       " 'working_time_intervals': [],\n",
       " 'working_time_modes': [],\n",
       " 'accept_temporary': False,\n",
       " 'professional_roles': [{'id': '10', 'name': 'Аналитик'}],\n",
       " 'accept_incomplete_resumes': False}"
      ]
     },
     "execution_count": 4,
     "metadata": {},
     "output_type": "execute_result"
    }
   ],
   "source": [
    "data['items'][0]"
   ]
  },
  {
   "cell_type": "markdown",
   "metadata": {
    "pycharm": {
     "name": "#%% md\n"
    }
   },
   "source": [
    "Сколько всего найдено вакансий"
   ]
  },
  {
   "cell_type": "code",
   "execution_count": 5,
   "metadata": {
    "pycharm": {
     "name": "#%%\n"
    }
   },
   "outputs": [
    {
     "data": {
      "text/plain": [
       "241"
      ]
     },
     "execution_count": 5,
     "metadata": {},
     "output_type": "execute_result"
    }
   ],
   "source": [
    "data['found']"
   ]
  },
  {
   "cell_type": "markdown",
   "metadata": {
    "pycharm": {
     "name": "#%% md\n"
    }
   },
   "source": [
    "Количество страниц в результатах поиска"
   ]
  },
  {
   "cell_type": "code",
   "execution_count": 6,
   "metadata": {
    "pycharm": {
     "name": "#%%\n"
    }
   },
   "outputs": [
    {
     "data": {
      "text/plain": [
       "25"
      ]
     },
     "execution_count": 6,
     "metadata": {},
     "output_type": "execute_result"
    }
   ],
   "source": [
    "data['pages']"
   ]
  },
  {
   "cell_type": "markdown",
   "metadata": {
    "pycharm": {
     "name": "#%% md\n"
    }
   },
   "source": [
    "Из результатов можем сделать удобную таблицу, причем в дальнейшем можно оставить только те колонки, которые необходимы для анализа."
   ]
  },
  {
   "cell_type": "code",
   "execution_count": 7,
   "metadata": {
    "pycharm": {
     "name": "#%%\n"
    }
   },
   "outputs": [
    {
     "data": {
      "text/html": [
       "<div>\n",
       "<style scoped>\n",
       "    .dataframe tbody tr th:only-of-type {\n",
       "        vertical-align: middle;\n",
       "    }\n",
       "\n",
       "    .dataframe tbody tr th {\n",
       "        vertical-align: top;\n",
       "    }\n",
       "\n",
       "    .dataframe thead th {\n",
       "        text-align: right;\n",
       "    }\n",
       "</style>\n",
       "<table border=\"1\" class=\"dataframe\">\n",
       "  <thead>\n",
       "    <tr style=\"text-align: right;\">\n",
       "      <th></th>\n",
       "      <th>id</th>\n",
       "      <th>premium</th>\n",
       "      <th>name</th>\n",
       "      <th>department</th>\n",
       "      <th>has_test</th>\n",
       "      <th>response_letter_required</th>\n",
       "      <th>response_url</th>\n",
       "      <th>sort_point_distance</th>\n",
       "      <th>published_at</th>\n",
       "      <th>created_at</th>\n",
       "      <th>...</th>\n",
       "      <th>address.metro.line_id</th>\n",
       "      <th>address.metro.lat</th>\n",
       "      <th>address.metro.lng</th>\n",
       "      <th>address</th>\n",
       "      <th>employer.logo_urls</th>\n",
       "      <th>salary</th>\n",
       "      <th>department.id</th>\n",
       "      <th>department.name</th>\n",
       "      <th>insider_interview.id</th>\n",
       "      <th>insider_interview.url</th>\n",
       "    </tr>\n",
       "  </thead>\n",
       "  <tbody>\n",
       "    <tr>\n",
       "      <th>0</th>\n",
       "      <td>74376536</td>\n",
       "      <td>False</td>\n",
       "      <td>Data scientist</td>\n",
       "      <td>NaN</td>\n",
       "      <td>False</td>\n",
       "      <td>False</td>\n",
       "      <td>None</td>\n",
       "      <td>None</td>\n",
       "      <td>2023-02-23T13:01:29+0300</td>\n",
       "      <td>2023-02-23T13:01:29+0300</td>\n",
       "      <td>...</td>\n",
       "      <td>NaN</td>\n",
       "      <td>NaN</td>\n",
       "      <td>NaN</td>\n",
       "      <td>NaN</td>\n",
       "      <td>NaN</td>\n",
       "      <td>NaN</td>\n",
       "      <td>NaN</td>\n",
       "      <td>NaN</td>\n",
       "      <td>NaN</td>\n",
       "      <td>NaN</td>\n",
       "    </tr>\n",
       "    <tr>\n",
       "      <th>1</th>\n",
       "      <td>74257661</td>\n",
       "      <td>False</td>\n",
       "      <td>Data scientist</td>\n",
       "      <td>NaN</td>\n",
       "      <td>False</td>\n",
       "      <td>False</td>\n",
       "      <td>None</td>\n",
       "      <td>None</td>\n",
       "      <td>2023-02-23T15:02:29+0300</td>\n",
       "      <td>2023-02-23T15:02:29+0300</td>\n",
       "      <td>...</td>\n",
       "      <td>133</td>\n",
       "      <td>55.7232</td>\n",
       "      <td>37.5038</td>\n",
       "      <td>NaN</td>\n",
       "      <td>NaN</td>\n",
       "      <td>NaN</td>\n",
       "      <td>NaN</td>\n",
       "      <td>NaN</td>\n",
       "      <td>NaN</td>\n",
       "      <td>NaN</td>\n",
       "    </tr>\n",
       "    <tr>\n",
       "      <th>2</th>\n",
       "      <td>76925483</td>\n",
       "      <td>False</td>\n",
       "      <td>Data Scientist</td>\n",
       "      <td>NaN</td>\n",
       "      <td>False</td>\n",
       "      <td>False</td>\n",
       "      <td>None</td>\n",
       "      <td>None</td>\n",
       "      <td>2023-02-25T14:31:00+0300</td>\n",
       "      <td>2023-02-25T14:31:00+0300</td>\n",
       "      <td>...</td>\n",
       "      <td>NaN</td>\n",
       "      <td>NaN</td>\n",
       "      <td>NaN</td>\n",
       "      <td>NaN</td>\n",
       "      <td>NaN</td>\n",
       "      <td>NaN</td>\n",
       "      <td>NaN</td>\n",
       "      <td>NaN</td>\n",
       "      <td>NaN</td>\n",
       "      <td>NaN</td>\n",
       "    </tr>\n",
       "    <tr>\n",
       "      <th>3</th>\n",
       "      <td>77208642</td>\n",
       "      <td>False</td>\n",
       "      <td>Data Scientist middle+/Senior</td>\n",
       "      <td>NaN</td>\n",
       "      <td>False</td>\n",
       "      <td>False</td>\n",
       "      <td>None</td>\n",
       "      <td>None</td>\n",
       "      <td>2023-02-23T12:06:39+0300</td>\n",
       "      <td>2023-02-23T12:06:39+0300</td>\n",
       "      <td>...</td>\n",
       "      <td>NaN</td>\n",
       "      <td>NaN</td>\n",
       "      <td>NaN</td>\n",
       "      <td>NaN</td>\n",
       "      <td>NaN</td>\n",
       "      <td>NaN</td>\n",
       "      <td>NaN</td>\n",
       "      <td>NaN</td>\n",
       "      <td>NaN</td>\n",
       "      <td>NaN</td>\n",
       "    </tr>\n",
       "    <tr>\n",
       "      <th>4</th>\n",
       "      <td>77223284</td>\n",
       "      <td>False</td>\n",
       "      <td>Аналитик данных (Data Scientist) / ML-разработчик</td>\n",
       "      <td>NaN</td>\n",
       "      <td>False</td>\n",
       "      <td>False</td>\n",
       "      <td>None</td>\n",
       "      <td>None</td>\n",
       "      <td>2023-02-23T15:00:20+0300</td>\n",
       "      <td>2023-02-23T15:00:20+0300</td>\n",
       "      <td>...</td>\n",
       "      <td>NaN</td>\n",
       "      <td>NaN</td>\n",
       "      <td>NaN</td>\n",
       "      <td>NaN</td>\n",
       "      <td>NaN</td>\n",
       "      <td>NaN</td>\n",
       "      <td>NaN</td>\n",
       "      <td>NaN</td>\n",
       "      <td>NaN</td>\n",
       "      <td>NaN</td>\n",
       "    </tr>\n",
       "  </tbody>\n",
       "</table>\n",
       "<p>5 rows × 69 columns</p>\n",
       "</div>"
      ],
      "text/plain": [
       "         id  premium                                               name  \\\n",
       "0  74376536    False                                     Data scientist   \n",
       "1  74257661    False                                     Data scientist   \n",
       "2  76925483    False                                     Data Scientist   \n",
       "3  77208642    False                      Data Scientist middle+/Senior   \n",
       "4  77223284    False  Аналитик данных (Data Scientist) / ML-разработчик   \n",
       "\n",
       "   department  has_test  response_letter_required response_url  \\\n",
       "0         NaN     False                     False         None   \n",
       "1         NaN     False                     False         None   \n",
       "2         NaN     False                     False         None   \n",
       "3         NaN     False                     False         None   \n",
       "4         NaN     False                     False         None   \n",
       "\n",
       "  sort_point_distance              published_at                created_at  \\\n",
       "0                None  2023-02-23T13:01:29+0300  2023-02-23T13:01:29+0300   \n",
       "1                None  2023-02-23T15:02:29+0300  2023-02-23T15:02:29+0300   \n",
       "2                None  2023-02-25T14:31:00+0300  2023-02-25T14:31:00+0300   \n",
       "3                None  2023-02-23T12:06:39+0300  2023-02-23T12:06:39+0300   \n",
       "4                None  2023-02-23T15:00:20+0300  2023-02-23T15:00:20+0300   \n",
       "\n",
       "   ...  address.metro.line_id address.metro.lat  address.metro.lng address  \\\n",
       "0  ...                    NaN               NaN                NaN     NaN   \n",
       "1  ...                    133           55.7232            37.5038     NaN   \n",
       "2  ...                    NaN               NaN                NaN     NaN   \n",
       "3  ...                    NaN               NaN                NaN     NaN   \n",
       "4  ...                    NaN               NaN                NaN     NaN   \n",
       "\n",
       "  employer.logo_urls salary department.id department.name  \\\n",
       "0                NaN    NaN           NaN             NaN   \n",
       "1                NaN    NaN           NaN             NaN   \n",
       "2                NaN    NaN           NaN             NaN   \n",
       "3                NaN    NaN           NaN             NaN   \n",
       "4                NaN    NaN           NaN             NaN   \n",
       "\n",
       "  insider_interview.id insider_interview.url  \n",
       "0                  NaN                   NaN  \n",
       "1                  NaN                   NaN  \n",
       "2                  NaN                   NaN  \n",
       "3                  NaN                   NaN  \n",
       "4                  NaN                   NaN  \n",
       "\n",
       "[5 rows x 69 columns]"
      ]
     },
     "execution_count": 7,
     "metadata": {},
     "output_type": "execute_result"
    }
   ],
   "source": [
    "df = pd.json_normalize(data['items'])\n",
    "df.head()"
   ]
  },
  {
   "cell_type": "markdown",
   "metadata": {
    "pycharm": {
     "name": "#%% md\n"
    }
   },
   "source": [
    "Для получения полного описания вакансии потребуется задать отдельный запрос, используя ее `id`."
   ]
  },
  {
   "cell_type": "code",
   "execution_count": 8,
   "metadata": {
    "pycharm": {
     "name": "#%%\n"
    }
   },
   "outputs": [],
   "source": [
    "vacancy = df['id'].iloc[0]\n",
    "vacancy_url = f'https://api.hh.ru/vacancies/{vacancy}'\n",
    "\n",
    "req = requests.get(vacancy_url)\n",
    "vacancy_info = json.loads(req.content.decode())"
   ]
  },
  {
   "cell_type": "code",
   "execution_count": 9,
   "metadata": {
    "scrolled": false,
    "pycharm": {
     "name": "#%%\n"
    }
   },
   "outputs": [
    {
     "data": {
      "text/plain": [
       "{'id': '74376536',\n",
       " 'premium': False,\n",
       " 'billing_type': {'id': 'standard_plus', 'name': 'Стандарт плюс'},\n",
       " 'relations': [],\n",
       " 'name': 'Data scientist',\n",
       " 'insider_interview': None,\n",
       " 'response_letter_required': False,\n",
       " 'area': {'id': '1', 'name': 'Москва', 'url': 'https://api.hh.ru/areas/1'},\n",
       " 'salary': {'from': 200000, 'to': 240000, 'currency': 'RUR', 'gross': False},\n",
       " 'type': {'id': 'open', 'name': 'Открытая'},\n",
       " 'address': {'city': 'Москва',\n",
       "  'street': 'Походный проезд',\n",
       "  'building': '14',\n",
       "  'lat': 55.838091,\n",
       "  'lng': 37.417167,\n",
       "  'description': None,\n",
       "  'raw': 'Москва, Походный проезд, 14',\n",
       "  'metro': None,\n",
       "  'metro_stations': []},\n",
       " 'allow_messages': True,\n",
       " 'experience': {'id': 'between3And6', 'name': 'От 3 до 6 лет'},\n",
       " 'schedule': {'id': 'remote', 'name': 'Удаленная работа'},\n",
       " 'employment': {'id': 'full', 'name': 'Полная занятость'},\n",
       " 'department': None,\n",
       " 'contacts': None,\n",
       " 'description': '<strong>Обязанности:</strong> <ul> <li>Работа в команде по созданию модуля Data Science &amp; AI, отвечающего за обработку данных, консолидированных в хранилище, и интеллектуальное обеспечение различных бизнес-процессов розничной компании.</li> <li>Анализ и обработка больших массивов структурированных и неструктурированных данных;</li> <li>Создание и развитие batch/real-time моделей персональных товарных предложений и рекомендаций для покупателей; развитие моделей сегментации и прогнозирования оттока; поиск структур в данных, прогнозирование спроса, оптимизация цен, распознавание изображений товаров, анализ тональности откликов, выявление мошенничества и пр.;</li> <li>Полный цикл (data collection, feature engineering, model fitting, model management, visualization, model serving) создания набора моделей на основе транзакционной и поведенческой информации;</li> <li>Участие в разработке и стандартизации ML-пайплайнов;</li> <li>Еxperiment и code-review.</li> </ul> <strong>Требования:</strong> <ul> <li>Опыт работы на позиции data scientist от 2ух лет;</li> <li>Знание основных алгоритмов и метрик машинного обучения;</li> <li>Ключевые навыки: Python, SQL, ML;</li> <li>Практические навыки работы с рекомендательными системами: знание архитектур и алгоритмов в основе collaborative filtering / content based / hybrid recommender systems;</li> <li>Аналитические способности и логическое мышление;</li> <li>Знание математической статистики и теории вероятности;</li> <li>Умение объяснять и адаптировать сложные системы и технические термины к ясной лаконичной форме для нетехнических специалистов;</li> <li>Умение работать в команде на результат;</li> <li>Внимательность;</li> <li>Ответственность;</li> <li>Целеустремлённость;</li> <li>Знание английского языка на уровне чтения технических материалов.</li> </ul> <p><strong>Приветствуется:</strong></p> <ul> <li>Опыт работы в компаниях в сфере розничной торговли;</li> <li>Образование - МФТИ, МГТУ им. Баумана, МГУ, СПбГУ, Сколтех, НГУ;</li> <li>Достижения по итогам участия в олимпиадах по техническим дисциплинам (математика, программирование, физика);</li> <li>Практические навыки работы с Deep Learning фреймворками PyTorch, TensorFlow и пр.;</li> <li>Участие в соревнованиях по решению задач с помощью машинного обучения (Kaggle, RecSys пр.);</li> <li>Участие в разработке opensourсe библиотек, пройденные за последний год оффлайн и онлайн курсы (coursera, udemy и пр.);</li> <li>Желателен опыт работы со Spark, Scala, Airflow.</li> </ul> <strong>Условия:</strong> <ul> <li>работа в аккредитованной IT-компании</li> <li>Оформление по ТК РФ</li> <li>График работы - гибкий, с учетом часовых поясов</li> <li>Перспективы профессионального роста (рост в зарплате и по карьерной лестнице)</li> <li>Возможна удаленная работа из-за границы, в том числе из Турции, Грузии, Армении, Казахстан, Узбекистан и др.</li> </ul>',\n",
       " 'branded_description': None,\n",
       " 'vacancy_constructor_template': None,\n",
       " 'key_skills': [{'name': 'Python'},\n",
       "  {'name': 'PyTorch'},\n",
       "  {'name': 'Machine Learning'},\n",
       "  {'name': 'Spark'},\n",
       "  {'name': 'SQL'}],\n",
       " 'accept_handicapped': False,\n",
       " 'accept_kids': False,\n",
       " 'archived': False,\n",
       " 'response_url': None,\n",
       " 'specializations': [{'id': '17.751',\n",
       "   'name': 'Другое',\n",
       "   'profarea_id': '17',\n",
       "   'profarea_name': 'Продажи'},\n",
       "  {'id': '1.25',\n",
       "   'name': 'Аналитик',\n",
       "   'profarea_id': '1',\n",
       "   'profarea_name': 'Информационные технологии, интернет, телеком'},\n",
       "  {'id': '3.26',\n",
       "   'name': 'Аналитик',\n",
       "   'profarea_id': '3',\n",
       "   'profarea_name': 'Маркетинг, реклама, PR'},\n",
       "  {'id': '12.746',\n",
       "   'name': 'Другое',\n",
       "   'profarea_id': '12',\n",
       "   'profarea_name': 'Консультирование'}],\n",
       " 'professional_roles': [{'id': '10', 'name': 'Аналитик'}],\n",
       " 'code': None,\n",
       " 'hidden': False,\n",
       " 'quick_responses_allowed': False,\n",
       " 'driver_license_types': [],\n",
       " 'accept_incomplete_resumes': False,\n",
       " 'employer': {'id': '606',\n",
       "  'name': 'Астор',\n",
       "  'url': 'https://api.hh.ru/employers/606',\n",
       "  'alternate_url': 'https://hh.ru/employer/606',\n",
       "  'logo_urls': {'original': 'https://hhcdn.ru/employer-logo-original/895922.png',\n",
       "   '90': 'https://hhcdn.ru/employer-logo/4024375.png',\n",
       "   '240': 'https://hhcdn.ru/employer-logo/4024376.png'},\n",
       "  'vacancies_url': 'https://api.hh.ru/vacancies?employer_id=606',\n",
       "  'trusted': True},\n",
       " 'published_at': '2023-02-23T13:01:29+0300',\n",
       " 'created_at': '2023-02-23T13:01:29+0300',\n",
       " 'initial_created_at': '2022-12-29T12:15:51+0300',\n",
       " 'negotiations_url': None,\n",
       " 'suitable_resumes_url': None,\n",
       " 'apply_alternate_url': 'https://hh.ru/applicant/vacancy_response?vacancyId=74376536',\n",
       " 'has_test': False,\n",
       " 'test': None,\n",
       " 'alternate_url': 'https://hh.ru/vacancy/74376536',\n",
       " 'working_days': [],\n",
       " 'working_time_intervals': [],\n",
       " 'working_time_modes': [],\n",
       " 'accept_temporary': False,\n",
       " 'languages': []}"
      ]
     },
     "execution_count": 9,
     "metadata": {},
     "output_type": "execute_result"
    }
   ],
   "source": [
    "vacancy_info"
   ]
  },
  {
   "cell_type": "markdown",
   "metadata": {
    "pycharm": {
     "name": "#%% md\n"
    }
   },
   "source": [
    "### <font color=\"blue\"><i>Легкая часть</i></font>"
   ]
  },
  {
   "cell_type": "markdown",
   "metadata": {
    "pycharm": {
     "name": "#%% md\n"
    }
   },
   "source": [
    " ---\n",
    "### Задача 1.   \n",
    "\n",
    "Исследуем профессию Data Scientist. Найдите как можно больше вакансий по этой профессии в Москве. Учтите, что имеет смысл искать также по другим ключевым словам, например, `аналитик данных`."
   ]
  },
  {
   "cell_type": "markdown",
   "source": [
    "В документации hh.ru написано, что в поле text можно передавать логические операции со словами и словасочетаниями"
   ],
   "metadata": {
    "collapsed": false,
    "pycharm": {
     "name": "#%% md\n"
    }
   }
  },
  {
   "cell_type": "code",
   "execution_count": 79,
   "metadata": {
    "pycharm": {
     "name": "#%%\n"
    }
   },
   "outputs": [
    {
     "name": "stdout",
     "output_type": "stream",
     "text": [
      "2000\n"
     ]
    }
   ],
   "source": [
    "import time\n",
    "data = []\n",
    "url = 'https://api.hh.ru/vacancies'\n",
    "# 100 17577 20\n",
    "\n",
    "def getVacancies(page):\n",
    "    params = {\n",
    "        'text': '\\\"Data Scientist\\\" OR \\\"Data analyst\\\" OR \\\"Аналитик\\\" OR \\\"ML Researcher\\\" OR \\\"ML Engineer\\\"',\n",
    "        'area': 1,\n",
    "        'page': page,\n",
    "        'per_page': 100\n",
    "    }\n",
    "    response = requests.get(url, params)\n",
    "    return json.loads(response.content.decode())\n",
    "\n",
    "res = getVacancies(0)\n",
    "data += res['items']\n",
    "for i in range(1, res['pages']):\n",
    "    data += getVacancies(i)['items']\n",
    "    time.sleep(1)\n",
    "\n",
    "print(len(data))"
   ]
  },
  {
   "cell_type": "markdown",
   "metadata": {
    "pycharm": {
     "name": "#%% md\n"
    }
   },
   "source": [
    "В полученную выборку некоторые вакансии могли попасть несколько раз. Удалите дубликаты."
   ]
  },
  {
   "cell_type": "markdown",
   "source": [
    "Для того, чтобы убрать дубликаты мы заведем множество, в которое будем пихать id вакансий, если, при обработке вакансии окажется, что ее id уже есть в множестве, то мы вакансию пропускаем."
   ],
   "metadata": {
    "collapsed": false,
    "pycharm": {
     "name": "#%% md\n"
    }
   }
  },
  {
   "cell_type": "code",
   "execution_count": 56,
   "metadata": {
    "pycharm": {
     "name": "#%%\n"
    }
   },
   "outputs": [
    {
     "name": "stdout",
     "output_type": "stream",
     "text": [
      "1993\n"
     ]
    }
   ],
   "source": [
    "seen = set()\n",
    "new_data = []\n",
    "for d in data:\n",
    "    id = int(d['id'])\n",
    "    if id not in seen:\n",
    "        seen.add(id)\n",
    "        new_data.append(d)\n",
    "\n",
    "data = new_data\n",
    "print(len(data))"
   ]
  },
  {
   "cell_type": "code",
   "execution_count": 58,
   "outputs": [
    {
     "name": "stdout",
     "output_type": "stream",
     "text": [
      "1993\n"
     ]
    }
   ],
   "source": [
    "data_table = []\n",
    "counter = 0\n",
    "\n",
    "for i in data:\n",
    "    response = requests.get(url + '/' + str(i['id']))\n",
    "    data_table.append(json.loads(response.content.decode()))\n",
    "    counter += 1\n",
    "    if counter % 30 == 0:\n",
    "        time.sleep(.5)\n",
    "\n",
    "print(len(data_table))"
   ],
   "metadata": {
    "collapsed": false,
    "pycharm": {
     "name": "#%%\n"
    }
   }
  },
  {
   "cell_type": "markdown",
   "metadata": {
    "pycharm": {
     "name": "#%% md\n"
    }
   },
   "source": [
    "Загрузите подробное описание каждой вакансии и создайте удобную для дальнейших действий таблицу данных."
   ]
  },
  {
   "cell_type": "code",
   "execution_count": 59,
   "metadata": {
    "pycharm": {
     "name": "#%%\n"
    }
   },
   "outputs": [
    {
     "data": {
      "text/plain": "         id  premium relations                            name  \\\n0  77605375    False        []                    Data analyst   \n1  77616544    False        []                   Data-аналитик   \n2  77586678    False        []                    Data Analyst   \n3  77613664    False        []                  Data Scientist   \n4  77024983    False        []  Аналитик данных / Data Analyst   \n\n   insider_interview  response_letter_required  salary  address  \\\n0                NaN                     False     NaN      NaN   \n1                NaN                     False     NaN      NaN   \n2                NaN                     False     NaN      NaN   \n3                NaN                     False     NaN      NaN   \n4                NaN                     False     NaN      NaN   \n\n   allow_messages contacts  ... vacancy_constructor_template.name  \\\n0            True     None  ...                               NaN   \n1            True     None  ...                               NaN   \n2            True     None  ...                               NaN   \n3            True     None  ...                               NaN   \n4            True     None  ...                               NaN   \n\n  vacancy_constructor_template.top_picture.height  \\\n0                                             NaN   \n1                                             NaN   \n2                                             NaN   \n3                                             NaN   \n4                                             NaN   \n\n   vacancy_constructor_template.top_picture.width  \\\n0                                             NaN   \n1                                             NaN   \n2                                             NaN   \n3                                             NaN   \n4                                             NaN   \n\n  vacancy_constructor_template.top_picture.path  \\\n0                                           NaN   \n1                                           NaN   \n2                                           NaN   \n3                                           NaN   \n4                                           NaN   \n\n   vacancy_constructor_template.top_picture.blurred_path  \\\n0                                                NaN       \n1                                                NaN       \n2                                                NaN       \n3                                                NaN       \n4                                                NaN       \n\n   vacancy_constructor_template.bottom_picture.height  \\\n0                                                NaN    \n1                                                NaN    \n2                                                NaN    \n3                                                NaN    \n4                                                NaN    \n\n   vacancy_constructor_template.bottom_picture.width  \\\n0                                                NaN   \n1                                                NaN   \n2                                                NaN   \n3                                                NaN   \n4                                                NaN   \n\n  vacancy_constructor_template.bottom_picture.path  \\\n0                                              NaN   \n1                                              NaN   \n2                                              NaN   \n3                                              NaN   \n4                                              NaN   \n\n  vacancy_constructor_template.bottom_picture.blurred_path  \\\n0                                                NaN         \n1                                                NaN         \n2                                                NaN         \n3                                                NaN         \n4                                                NaN         \n\n  vacancy_constructor_template.bottom_picture  \n0                                         NaN  \n1                                         NaN  \n2                                         NaN  \n3                                         NaN  \n4                                         NaN  \n\n[5 rows x 98 columns]",
      "text/html": "<div>\n<style scoped>\n    .dataframe tbody tr th:only-of-type {\n        vertical-align: middle;\n    }\n\n    .dataframe tbody tr th {\n        vertical-align: top;\n    }\n\n    .dataframe thead th {\n        text-align: right;\n    }\n</style>\n<table border=\"1\" class=\"dataframe\">\n  <thead>\n    <tr style=\"text-align: right;\">\n      <th></th>\n      <th>id</th>\n      <th>premium</th>\n      <th>relations</th>\n      <th>name</th>\n      <th>insider_interview</th>\n      <th>response_letter_required</th>\n      <th>salary</th>\n      <th>address</th>\n      <th>allow_messages</th>\n      <th>contacts</th>\n      <th>...</th>\n      <th>vacancy_constructor_template.name</th>\n      <th>vacancy_constructor_template.top_picture.height</th>\n      <th>vacancy_constructor_template.top_picture.width</th>\n      <th>vacancy_constructor_template.top_picture.path</th>\n      <th>vacancy_constructor_template.top_picture.blurred_path</th>\n      <th>vacancy_constructor_template.bottom_picture.height</th>\n      <th>vacancy_constructor_template.bottom_picture.width</th>\n      <th>vacancy_constructor_template.bottom_picture.path</th>\n      <th>vacancy_constructor_template.bottom_picture.blurred_path</th>\n      <th>vacancy_constructor_template.bottom_picture</th>\n    </tr>\n  </thead>\n  <tbody>\n    <tr>\n      <th>0</th>\n      <td>77605375</td>\n      <td>False</td>\n      <td>[]</td>\n      <td>Data analyst</td>\n      <td>NaN</td>\n      <td>False</td>\n      <td>NaN</td>\n      <td>NaN</td>\n      <td>True</td>\n      <td>None</td>\n      <td>...</td>\n      <td>NaN</td>\n      <td>NaN</td>\n      <td>NaN</td>\n      <td>NaN</td>\n      <td>NaN</td>\n      <td>NaN</td>\n      <td>NaN</td>\n      <td>NaN</td>\n      <td>NaN</td>\n      <td>NaN</td>\n    </tr>\n    <tr>\n      <th>1</th>\n      <td>77616544</td>\n      <td>False</td>\n      <td>[]</td>\n      <td>Data-аналитик</td>\n      <td>NaN</td>\n      <td>False</td>\n      <td>NaN</td>\n      <td>NaN</td>\n      <td>True</td>\n      <td>None</td>\n      <td>...</td>\n      <td>NaN</td>\n      <td>NaN</td>\n      <td>NaN</td>\n      <td>NaN</td>\n      <td>NaN</td>\n      <td>NaN</td>\n      <td>NaN</td>\n      <td>NaN</td>\n      <td>NaN</td>\n      <td>NaN</td>\n    </tr>\n    <tr>\n      <th>2</th>\n      <td>77586678</td>\n      <td>False</td>\n      <td>[]</td>\n      <td>Data Analyst</td>\n      <td>NaN</td>\n      <td>False</td>\n      <td>NaN</td>\n      <td>NaN</td>\n      <td>True</td>\n      <td>None</td>\n      <td>...</td>\n      <td>NaN</td>\n      <td>NaN</td>\n      <td>NaN</td>\n      <td>NaN</td>\n      <td>NaN</td>\n      <td>NaN</td>\n      <td>NaN</td>\n      <td>NaN</td>\n      <td>NaN</td>\n      <td>NaN</td>\n    </tr>\n    <tr>\n      <th>3</th>\n      <td>77613664</td>\n      <td>False</td>\n      <td>[]</td>\n      <td>Data Scientist</td>\n      <td>NaN</td>\n      <td>False</td>\n      <td>NaN</td>\n      <td>NaN</td>\n      <td>True</td>\n      <td>None</td>\n      <td>...</td>\n      <td>NaN</td>\n      <td>NaN</td>\n      <td>NaN</td>\n      <td>NaN</td>\n      <td>NaN</td>\n      <td>NaN</td>\n      <td>NaN</td>\n      <td>NaN</td>\n      <td>NaN</td>\n      <td>NaN</td>\n    </tr>\n    <tr>\n      <th>4</th>\n      <td>77024983</td>\n      <td>False</td>\n      <td>[]</td>\n      <td>Аналитик данных / Data Analyst</td>\n      <td>NaN</td>\n      <td>False</td>\n      <td>NaN</td>\n      <td>NaN</td>\n      <td>True</td>\n      <td>None</td>\n      <td>...</td>\n      <td>NaN</td>\n      <td>NaN</td>\n      <td>NaN</td>\n      <td>NaN</td>\n      <td>NaN</td>\n      <td>NaN</td>\n      <td>NaN</td>\n      <td>NaN</td>\n      <td>NaN</td>\n      <td>NaN</td>\n    </tr>\n  </tbody>\n</table>\n<p>5 rows × 98 columns</p>\n</div>"
     },
     "execution_count": 59,
     "metadata": {},
     "output_type": "execute_result"
    }
   ],
   "source": [
    "df = pd.json_normalize(data_table)\n",
    "df.head()"
   ]
  },
  {
   "cell_type": "markdown",
   "metadata": {
    "pycharm": {
     "name": "#%% md\n"
    }
   },
   "source": [
    "**Полученную таблицу необходимо сохранить в формате xlsx и отправить боту вместе с решением.**"
   ]
  },
  {
   "cell_type": "markdown",
   "source": [
    "Код ниже сохраняет таблицу в виде xlsx"
   ],
   "metadata": {
    "collapsed": false,
    "pycharm": {
     "name": "#%% md\n"
    }
   }
  },
  {
   "cell_type": "code",
   "execution_count": 60,
   "outputs": [],
   "source": [
    "writer = pd.ExcelWriter('task4_table.xlsx', engine='xlsxwriter')\n",
    "\n",
    "df.to_excel(writer, sheet_name='Sheet1', startrow=1, header=False, index=False)\n",
    "\n",
    "workbook = writer.book\n",
    "worksheet = writer.sheets['Sheet1']\n",
    "\n",
    "(max_row, max_col) = df.shape\n",
    "\n",
    "column_settings = [{'header': column} for column in df.columns]\n",
    "\n",
    "worksheet.add_table(0, 0, max_row, max_col - 1, {'columns': column_settings})\n",
    "\n",
    "worksheet.set_column(0, max_col - 1, 12)\n",
    "\n",
    "writer.close()"
   ],
   "metadata": {
    "collapsed": false,
    "pycharm": {
     "name": "#%%\n"
    }
   }
  },
  {
   "cell_type": "markdown",
   "metadata": {
    "pycharm": {
     "name": "#%% md\n"
    }
   },
   "source": [
    "**Вопрос 1.** Сколько сейчас доступно вакансий по вашему запросу?"
   ]
  },
  {
   "cell_type": "code",
   "execution_count": 61,
   "metadata": {
    "pycharm": {
     "name": "#%%\n"
    }
   },
   "outputs": [
    {
     "name": "stdout",
     "output_type": "stream",
     "text": [
      "1993\n"
     ]
    }
   ],
   "source": [
    "print(len(df))"
   ]
  },
  {
   "cell_type": "markdown",
   "metadata": {
    "pycharm": {
     "name": "#%% md\n"
    }
   },
   "source": [
    "**Вопрос 2.** Какие навыки чаще всего встречаются в вакансиях по данной специальности?\n",
    "\n",
    "Для этого найдите соответствующее поле в данных из полного описания вакансий, проанализируйте его и составьте список навыков и количество упоминаний каждого. Визуализируйте полученную информацию по топ-15 навыков."
   ]
  },
  {
   "cell_type": "markdown",
   "source": [
    "Заполняем множество названиями навыков из всех вакансий, т.к. мы используем set, то дубликатов не будет"
   ],
   "metadata": {
    "collapsed": false,
    "pycharm": {
     "name": "#%% md\n"
    }
   }
  },
  {
   "cell_type": "code",
   "execution_count": 81,
   "metadata": {
    "pycharm": {
     "name": "#%%\n"
    }
   },
   "outputs": [
    {
     "name": "stdout",
     "output_type": "stream",
     "text": [
      "Num of skills: 1621\n",
      "Top 15 is:\n",
      " SQL Аналитическое мышление Анализ данных Python BPMN Бизнес-анализ MS PowerPoint UML Системный анализ Работа с большим объемом информации Английский язык Разработка технических заданий MS Excel Аналитика Аналитические исследования\n"
     ]
    }
   ],
   "source": [
    "skills = set()\n",
    "\n",
    "for i in range(len(df)):\n",
    "    vacancy = df.iloc[i]\n",
    "    for skill in vacancy['key_skills']:\n",
    "        skills.add(skill['name'])\n",
    "skills = list(skills)\n",
    "\n",
    "skills_dict = {}\n",
    "for skill in skills:\n",
    "    skills_dict[skill] = 0\n",
    "    for i in range(len(df)):\n",
    "        if {'name': skill} in df.iloc[i]['key_skills']:\n",
    "            skills_dict[skill] += 1\n",
    "\n",
    "sorted_keys = sorted(skills_dict, key=skills_dict.get)\n",
    "sorted_keys.reverse()\n",
    "\n",
    "print(\"Num of skills:\", len(skills))\n",
    "print(\"Top 15 is:\\n\", *sorted_keys[:15])"
   ]
  },
  {
   "cell_type": "markdown",
   "source": [
    "Создадим таблицу с полями id, name (название навыка), count(сколько раз встречается в вакансиях)\n",
    "По этой таблице можно будет запросто построить график для топ-15 навыков, ибо таблица отсортирована по count"
   ],
   "metadata": {
    "collapsed": false,
    "pycharm": {
     "name": "#%% md\n"
    }
   }
  },
  {
   "cell_type": "code",
   "execution_count": 110,
   "outputs": [
    {
     "data": {
      "text/plain": "<Figure size 864x432 with 1 Axes>",
      "image/png": "[encoded data removed]"
     },
     "metadata": {},
     "output_type": "display_data"
    }
   ],
   "source": [
    "top_skills = list()\n",
    "ind = 0\n",
    "for key in sorted_keys[:15]:\n",
    "    top_skills.append(\n",
    "        {\n",
    "            'id': ind,\n",
    "            'name': key,\n",
    "            'count': skills_dict[key]\n",
    "        }\n",
    "    )\n",
    "    ind += 1\n",
    "df_skills = pd.json_normalize(top_skills)\n",
    "#print(df_skills.head())\n",
    "\n",
    "\n",
    "with sns.axes_style('whitegrid'):\n",
    "    plt.figure(figsize=(12, 6))\n",
    "    sns.barplot(data=df_skills, x='id', y='count', hue='name', ci=None).set(ylabel='Кол-во упоминаний', xlabel='Навык')\n",
    "    plt.legend(title='Навык', bbox_to_anchor=(1, 0.6))\n"
   ],
   "metadata": {
    "collapsed": false,
    "pycharm": {
     "name": "#%%\n"
    }
   }
  },
  {
   "cell_type": "markdown",
   "metadata": {
    "pycharm": {
     "name": "#%% md\n"
    }
   },
   "source": [
    "**Вопрос 3.** Какую зарплату готовы платить работодатели? Соберите некоторым образом статистику и постройте гистограмму.\n",
    "\n",
    "При работе с данными о заработной плате обратите внимание на валюту и <a target=\"_blank\" href=\"https://yandex.ru/search/?text=gross%2Fnet&clid=1955455&win=446&lr=213&noreask=1\">gross/net</a>. Постоянно подгружать курс валюты не требуется, достаточно фиксировать какой-то один более менее актуальный."
   ]
  },
  {
   "cell_type": "markdown",
   "source": [
    "Курс валют взят на дату 03.03.2023"
   ],
   "metadata": {
    "collapsed": false,
    "pycharm": {
     "name": "#%% md\n"
    }
   }
  },
  {
   "cell_type": "code",
   "execution_count": 259,
   "outputs": [],
   "source": [
    "usd_rub = 75.52\n",
    "eur_rub = 80.09\n",
    "max_salary = 0\n",
    "min_salary = 0\n",
    "tax = 0.13\n",
    "df_tmp = df.dropna(axis='index', how='any', subset=['salary.gross'])\n",
    "df_max_salary = df_tmp.groupby(by=['salary.currency']).max(['salary.from', 'salary.to'])\n",
    "df_min_salary = df_tmp.groupby(by=['salary.currency']).min(['salary.from', 'salary.to'])"
   ],
   "metadata": {
    "collapsed": false,
    "pycharm": {
     "name": "#%%\n"
    }
   }
  },
  {
   "cell_type": "markdown",
   "source": [
    "Определим минимальную и максимальную зарплаты, чтобы в дальнейшем покрывать ими пропуски.\n",
    "Зарплату мы будем учитывать с вычетом налогов"
   ],
   "metadata": {
    "collapsed": false,
    "pycharm": {
     "name": "#%% md\n"
    }
   }
  },
  {
   "cell_type": "code",
   "execution_count": 260,
   "metadata": {
    "pycharm": {
     "name": "#%%\n"
    }
   },
   "outputs": [
    {
     "name": "stdout",
     "output_type": "stream",
     "text": [
      "50.0 420000.0\n"
     ]
    }
   ],
   "source": [
    "# Находим самую максимальную зарплату\n",
    "for i in range(len(df_max_salary)):\n",
    "    has_tax = !df_max_salary.iloc[i]['salary.gross']\n",
    "    curr = df_max_salary.index[df_max_salary['salary.to'] == df_max_salary.iloc[i]['salary.to']].values[0]\n",
    "    if curr == 'USD':\n",
    "        if has_tax is False:\n",
    "            salary = (usd_rub * df_max_salary.iloc[i]['salary.to']) - (usd_rub * df_max_salary.iloc[i]['salary.to'] * tax)\n",
    "        else:\n",
    "            salary = usd_rub * df_max_salary.iloc[i]['salary.to']\n",
    "    if curr == 'EUR':\n",
    "        if has_tax is False:\n",
    "            salary = (eur_rub * df_max_salary.iloc[i]['salary.to']) - (eur_rub * df_max_salary.iloc[i]['salary.to'] * tax)\n",
    "        else:\n",
    "            salary = eur_rub * df_max_salary.iloc[i]['salary.to']\n",
    "    else:\n",
    "        if has_tax is False:\n",
    "            salary = df_max_salary.iloc[i]['salary.to'] - df_max_salary.iloc[i]['salary.to'] * tax\n",
    "        else:\n",
    "            salary = df_max_salary.iloc[i]['salary.to']\n",
    "    if salary > max_salary:\n",
    "        max_salary = salary\n",
    "\n",
    "min_salary = max_salary\n",
    "\n",
    "# Находим самую минимальную зарплату\n",
    "for i in range(len(df_min_salary)):\n",
    "    has_tax = !df_min_salary.iloc[i]['salary.gross']\n",
    "    curr = df_min_salary.index[df_min_salary['salary.from'] == df_min_salary.iloc[i]['salary.from']].values[0]\n",
    "    if curr == 'USD':\n",
    "        if has_tax is False:\n",
    "            salary = (usd_rub * df_min_salary.iloc[i]['salary.from']) - (usd_rub * df_min_salary.iloc[i]['salary.from'] * tax)\n",
    "        else:\n",
    "            salary = usd_rub * df_min_salary.iloc[i]['salary.from']\n",
    "    if curr == 'EUR':\n",
    "        if has_tax is False:\n",
    "            salary = (eur_rub * df_min_salary.iloc[i]['salary.from']) - (eur_rub * df_min_salary.iloc[i]['salary.from'] * tax)\n",
    "        else:\n",
    "            salary = eur_rub * df_min_salary.iloc[i]['salary.from']\n",
    "    else:\n",
    "        if has_tax is False:\n",
    "            salary = df_min_salary.iloc[i]['salary.from'] - df_min_salary.iloc[i]['salary.from'] * tax\n",
    "        else:\n",
    "            salary = df_min_salary.iloc[i]['salary.from']\n",
    "    if salary < min_salary:\n",
    "        min_salary = salary\n",
    "\n",
    "print(min_salary, max_salary)"
   ]
  },
  {
   "cell_type": "markdown",
   "source": [
    "Приведем все зарплаты к единому курсу (рубль), и вычтем налог"
   ],
   "metadata": {
    "collapsed": false,
    "pycharm": {
     "name": "#%% md\n"
    }
   }
  },
  {
   "cell_type": "code",
   "execution_count": 261,
   "outputs": [
    {
     "name": "stderr",
     "output_type": "stream",
     "text": [
      "C:\\Users\\Daler Hojimatov\\anaconda3\\lib\\site-packages\\pandas\\core\\indexing.py:1817: SettingWithCopyWarning: \n",
      "A value is trying to be set on a copy of a slice from a DataFrame.\n",
      "Try using .loc[row_indexer,col_indexer] = value instead\n",
      "\n",
      "See the caveats in the documentation: https://pandas.pydata.org/pandas-docs/stable/user_guide/indexing.html#returning-a-view-versus-a-copy\n",
      "  self._setitem_single_column(loc, value, pi)\n"
     ]
    },
    {
     "data": {
      "text/plain": "          id premium relations                            name  \\\n3   77613664   False        []                  Data Scientist   \n4   77024983   False        []  Аналитик данных / Data Analyst   \n6   73500441   False        []    Data Analyst (Middle/Senior)   \n13  76810036   False        []        Data Scientist (Middle+)   \n25  76565072   False        []  Аналитик данных | Data Analyst   \n\n    insider_interview response_letter_required  salary  address  \\\n3                 NaN                    False     NaN      NaN   \n4                 NaN                    False     NaN      NaN   \n6                 NaN                    False     NaN      NaN   \n13                NaN                    False     NaN      NaN   \n25                NaN                    False     NaN      NaN   \n\n   allow_messages contacts  ... 210000.0 230000.0  250000.0 270000.0 280000.0  \\\n3            True     None  ...      NaN      NaN       NaN      NaN      NaN   \n4            True     None  ...      NaN      NaN       NaN      NaN      NaN   \n6            True     None  ...      NaN      NaN       NaN      NaN      NaN   \n13           True     None  ...      NaN      NaN       NaN      NaN      NaN   \n25           True     None  ...      NaN      NaN       NaN      NaN      NaN   \n\n   300000.0 320000.0 330000.0 USD True  \n3       NaN      NaN      NaN NaN  NaN  \n4       NaN      NaN      NaN NaN  NaN  \n6       NaN      NaN      NaN NaN  NaN  \n13      NaN      NaN      NaN NaN  NaN  \n25      NaN      NaN      NaN NaN  NaN  \n\n[5 rows x 165 columns]",
      "text/html": "<div>\n<style scoped>\n    .dataframe tbody tr th:only-of-type {\n        vertical-align: middle;\n    }\n\n    .dataframe tbody tr th {\n        vertical-align: top;\n    }\n\n    .dataframe thead th {\n        text-align: right;\n    }\n</style>\n<table border=\"1\" class=\"dataframe\">\n  <thead>\n    <tr style=\"text-align: right;\">\n      <th></th>\n      <th>id</th>\n      <th>premium</th>\n      <th>relations</th>\n      <th>name</th>\n      <th>insider_interview</th>\n      <th>response_letter_required</th>\n      <th>salary</th>\n      <th>address</th>\n      <th>allow_messages</th>\n      <th>contacts</th>\n      <th>...</th>\n      <th>210000.0</th>\n      <th>230000.0</th>\n      <th>250000.0</th>\n      <th>270000.0</th>\n      <th>280000.0</th>\n      <th>300000.0</th>\n      <th>320000.0</th>\n      <th>330000.0</th>\n      <th>USD</th>\n      <th>True</th>\n    </tr>\n  </thead>\n  <tbody>\n    <tr>\n      <th>3</th>\n      <td>77613664</td>\n      <td>False</td>\n      <td>[]</td>\n      <td>Data Scientist</td>\n      <td>NaN</td>\n      <td>False</td>\n      <td>NaN</td>\n      <td>NaN</td>\n      <td>True</td>\n      <td>None</td>\n      <td>...</td>\n      <td>NaN</td>\n      <td>NaN</td>\n      <td>NaN</td>\n      <td>NaN</td>\n      <td>NaN</td>\n      <td>NaN</td>\n      <td>NaN</td>\n      <td>NaN</td>\n      <td>NaN</td>\n      <td>NaN</td>\n    </tr>\n    <tr>\n      <th>4</th>\n      <td>77024983</td>\n      <td>False</td>\n      <td>[]</td>\n      <td>Аналитик данных / Data Analyst</td>\n      <td>NaN</td>\n      <td>False</td>\n      <td>NaN</td>\n      <td>NaN</td>\n      <td>True</td>\n      <td>None</td>\n      <td>...</td>\n      <td>NaN</td>\n      <td>NaN</td>\n      <td>NaN</td>\n      <td>NaN</td>\n      <td>NaN</td>\n      <td>NaN</td>\n      <td>NaN</td>\n      <td>NaN</td>\n      <td>NaN</td>\n      <td>NaN</td>\n    </tr>\n    <tr>\n      <th>6</th>\n      <td>73500441</td>\n      <td>False</td>\n      <td>[]</td>\n      <td>Data Analyst (Middle/Senior)</td>\n      <td>NaN</td>\n      <td>False</td>\n      <td>NaN</td>\n      <td>NaN</td>\n      <td>True</td>\n      <td>None</td>\n      <td>...</td>\n      <td>NaN</td>\n      <td>NaN</td>\n      <td>NaN</td>\n      <td>NaN</td>\n      <td>NaN</td>\n      <td>NaN</td>\n      <td>NaN</td>\n      <td>NaN</td>\n      <td>NaN</td>\n      <td>NaN</td>\n    </tr>\n    <tr>\n      <th>13</th>\n      <td>76810036</td>\n      <td>False</td>\n      <td>[]</td>\n      <td>Data Scientist (Middle+)</td>\n      <td>NaN</td>\n      <td>False</td>\n      <td>NaN</td>\n      <td>NaN</td>\n      <td>True</td>\n      <td>None</td>\n      <td>...</td>\n      <td>NaN</td>\n      <td>NaN</td>\n      <td>NaN</td>\n      <td>NaN</td>\n      <td>NaN</td>\n      <td>NaN</td>\n      <td>NaN</td>\n      <td>NaN</td>\n      <td>NaN</td>\n      <td>NaN</td>\n    </tr>\n    <tr>\n      <th>25</th>\n      <td>76565072</td>\n      <td>False</td>\n      <td>[]</td>\n      <td>Аналитик данных | Data Analyst</td>\n      <td>NaN</td>\n      <td>False</td>\n      <td>NaN</td>\n      <td>NaN</td>\n      <td>True</td>\n      <td>None</td>\n      <td>...</td>\n      <td>NaN</td>\n      <td>NaN</td>\n      <td>NaN</td>\n      <td>NaN</td>\n      <td>NaN</td>\n      <td>NaN</td>\n      <td>NaN</td>\n      <td>NaN</td>\n      <td>NaN</td>\n      <td>NaN</td>\n    </tr>\n  </tbody>\n</table>\n<p>5 rows × 165 columns</p>\n</div>"
     },
     "execution_count": 261,
     "metadata": {},
     "output_type": "execute_result"
    }
   ],
   "source": [
    "for i, row in df_tmp.iterrows():\n",
    "    if row['salary.currency'] == 'USD':\n",
    "        if pd.isnull(row['salary.from']):\n",
    "            df_tmp.loc[i, ('salary.from',)] = min_salary\n",
    "        else:\n",
    "            if row['salary.gross']:\n",
    "                df_tmp.loc[i, ('salary.from',)] = (row['salary.from'] * usd_rub) - (row['salary.from'] * usd_rub * tax)\n",
    "            else:\n",
    "                df_tmp.loc[i, ('salary.from',)] = row['salary.from'] * usd_rub\n",
    "        if pd.isnull(row['salary.to']):\n",
    "            df_tmp.loc[i, ('salary.to',)] = max_salary\n",
    "        else:\n",
    "            if row['salary.gross']:\n",
    "                df_tmp.loc[i, ('salary.to',)] = (row['salary.to'] * usd_rub) - (row['salary.to'] * usd_rub * tax)\n",
    "            else:\n",
    "                df_tmp.loc[i, ('salary.to',)] = row['salary.to'] * usd_rub\n",
    "\n",
    "    elif row['salary.currency'] == 'EUR':\n",
    "        if pd.isnull(row['salary.from']):\n",
    "            df_tmp.loc[i, ('salary.from',)] = min_salary\n",
    "        else:\n",
    "            if row['salary.gross']:\n",
    "                df_tmp.loc[i, ('salary.from',)] = (row['salary.from'] * eur_rub) - (row['salary.from'] * eur_rub * tax)\n",
    "            else:\n",
    "                df_tmp.loc[i, ('salary.from',)] = row['salary.from'] * eur_rub\n",
    "        if pd.isnull(row['salary.to']):\n",
    "            df_tmp.loc[i, ('salary.to',)] = max_salary\n",
    "        else:\n",
    "            if row['salary.gross']:\n",
    "                df_tmp.loc[i, ('salary.to',)] = (row['salary.to'] * eur_rub) - (row['salary.to'] * eur_rub * tax)\n",
    "            else:\n",
    "                df_tmp.loc[i, ('salary.to',)] = row['salary.to'] * eur_rub\n",
    "\n",
    "    else:\n",
    "        if pd.isnull(row['salary.from']):\n",
    "            df_tmp.loc[i, ('salary.from',)] = min_salary\n",
    "        else:\n",
    "            if row['salary.gross']:\n",
    "                df_tmp.loc[i, ('salary.from',)] = row['salary.from'] - row['salary.from'] * tax\n",
    "        if pd.isnull(row['salary.to']):\n",
    "            df_tmp.loc[i, ('salary.to',)] = max_salary\n",
    "        else:\n",
    "            if row['salary.gross']:\n",
    "                df_tmp.loc[i, ('salary.to',)] = row['salary.to'] - row['salary.to'] * tax\n",
    "\n",
    "df_tmp.head()"
   ],
   "metadata": {
    "collapsed": false,
    "pycharm": {
     "name": "#%%\n"
    }
   }
  },
  {
   "cell_type": "markdown",
   "source": [
    "Соберем данные для минимальных зарплат (минимальные зарплаты для аналитиков при устройстве)"
   ],
   "metadata": {
    "collapsed": false,
    "pycharm": {
     "name": "#%% md\n"
    }
   }
  },
  {
   "cell_type": "code",
   "execution_count": 280,
   "outputs": [
    {
     "data": {
      "text/plain": "              name  count\n0        0 - 50000    142\n1   50000 - 100000    191\n2  100000 - 150000    108\n3  150000 - 200000     76\n4  200000 - 250000     22\n5  250000 - 300000      6",
      "text/html": "<div>\n<style scoped>\n    .dataframe tbody tr th:only-of-type {\n        vertical-align: middle;\n    }\n\n    .dataframe tbody tr th {\n        vertical-align: top;\n    }\n\n    .dataframe thead th {\n        text-align: right;\n    }\n</style>\n<table border=\"1\" class=\"dataframe\">\n  <thead>\n    <tr style=\"text-align: right;\">\n      <th></th>\n      <th>name</th>\n      <th>count</th>\n    </tr>\n  </thead>\n  <tbody>\n    <tr>\n      <th>0</th>\n      <td>0 - 50000</td>\n      <td>142</td>\n    </tr>\n    <tr>\n      <th>1</th>\n      <td>50000 - 100000</td>\n      <td>191</td>\n    </tr>\n    <tr>\n      <th>2</th>\n      <td>100000 - 150000</td>\n      <td>108</td>\n    </tr>\n    <tr>\n      <th>3</th>\n      <td>150000 - 200000</td>\n      <td>76</td>\n    </tr>\n    <tr>\n      <th>4</th>\n      <td>200000 - 250000</td>\n      <td>22</td>\n    </tr>\n    <tr>\n      <th>5</th>\n      <td>250000 - 300000</td>\n      <td>6</td>\n    </tr>\n  </tbody>\n</table>\n</div>"
     },
     "execution_count": 280,
     "metadata": {},
     "output_type": "execute_result"
    }
   ],
   "source": [
    "m = df_tmp['salary.from'].max()\n",
    "df_from = []\n",
    "froms = pd.DataFrame(df_tmp.groupby(by=['salary.from']).count()['name'])\n",
    "\n",
    "for i in range(int(m / 50000)):\n",
    "    df_from.append({'name': f'{i * 50000} - {i * 50000 + 50000}', 'count': 0})\n",
    "\n",
    "for i, row in froms.iterrows():\n",
    "    for j in range(int(m / 50000)):\n",
    "        if i <= j * 50000.0 + 50000.0:\n",
    "            df_from[j]['count'] += row['name']\n",
    "            break\n",
    "\n",
    "df_from = pd.json_normalize(df_from)\n",
    "df_from"
   ],
   "metadata": {
    "collapsed": false,
    "pycharm": {
     "name": "#%%\n"
    }
   }
  },
  {
   "cell_type": "markdown",
   "source": [
    "Соберем данные для максимальных зарплат (максимальные зарплаты для аналитиков при устройстве)"
   ],
   "metadata": {
    "collapsed": false,
    "pycharm": {
     "name": "#%% md\n"
    }
   }
  },
  {
   "cell_type": "code",
   "execution_count": 281,
   "outputs": [
    {
     "data": {
      "text/plain": "              name  count\n0        0 - 50000     10\n1   50000 - 100000     82\n2  100000 - 150000    106\n3  150000 - 200000     44\n4  200000 - 250000     39\n5  250000 - 300000     29\n6  300000 - 350000     14\n7  350000 - 400000      3",
      "text/html": "<div>\n<style scoped>\n    .dataframe tbody tr th:only-of-type {\n        vertical-align: middle;\n    }\n\n    .dataframe tbody tr th {\n        vertical-align: top;\n    }\n\n    .dataframe thead th {\n        text-align: right;\n    }\n</style>\n<table border=\"1\" class=\"dataframe\">\n  <thead>\n    <tr style=\"text-align: right;\">\n      <th></th>\n      <th>name</th>\n      <th>count</th>\n    </tr>\n  </thead>\n  <tbody>\n    <tr>\n      <th>0</th>\n      <td>0 - 50000</td>\n      <td>10</td>\n    </tr>\n    <tr>\n      <th>1</th>\n      <td>50000 - 100000</td>\n      <td>82</td>\n    </tr>\n    <tr>\n      <th>2</th>\n      <td>100000 - 150000</td>\n      <td>106</td>\n    </tr>\n    <tr>\n      <th>3</th>\n      <td>150000 - 200000</td>\n      <td>44</td>\n    </tr>\n    <tr>\n      <th>4</th>\n      <td>200000 - 250000</td>\n      <td>39</td>\n    </tr>\n    <tr>\n      <th>5</th>\n      <td>250000 - 300000</td>\n      <td>29</td>\n    </tr>\n    <tr>\n      <th>6</th>\n      <td>300000 - 350000</td>\n      <td>14</td>\n    </tr>\n    <tr>\n      <th>7</th>\n      <td>350000 - 400000</td>\n      <td>3</td>\n    </tr>\n  </tbody>\n</table>\n</div>"
     },
     "execution_count": 281,
     "metadata": {},
     "output_type": "execute_result"
    }
   ],
   "source": [
    "m = df_tmp['salary.to'].max()\n",
    "df_to = []\n",
    "tos = pd.DataFrame(df_tmp.groupby(by=['salary.to']).count()['name'])\n",
    "\n",
    "for i in range(int(m / 50000)):\n",
    "    df_to.append({'name': f'{i * 50000} - {i * 50000 + 50000}', 'count': 0})\n",
    "\n",
    "for i, row in tos.iterrows():\n",
    "    for j in range(int(m / 50000)):\n",
    "        if i <= j * 50000.0 + 50000.0:\n",
    "            df_to[j]['count'] += row['name']\n",
    "            break\n",
    "\n",
    "df_to = pd.json_normalize(df_to)\n",
    "df_to"
   ],
   "metadata": {
    "collapsed": false,
    "pycharm": {
     "name": "#%%\n"
    }
   }
  },
  {
   "cell_type": "code",
   "execution_count": 282,
   "outputs": [
    {
     "data": {
      "text/plain": "<Figure size 720x360 with 1 Axes>",
      "image/png": "[encoded data removed]"
     },
     "metadata": {},
     "output_type": "display_data"
    }
   ],
   "source": [
    "with sns.axes_style('whitegrid'):\n",
    "    plt.figure(figsize=(10, 5))\n",
    "    sns.barplot(data=df_from, x='name', y='count', hue='name', ci=None).set(ylabel='Кол-во вакансий', xlabel='Зарплата от')\n",
    "    plt.legend(title='Наименьшая зарплата')"
   ],
   "metadata": {
    "collapsed": false,
    "pycharm": {
     "name": "#%%\n"
    }
   }
  },
  {
   "cell_type": "code",
   "execution_count": 283,
   "outputs": [
    {
     "data": {
      "text/plain": "<Figure size 720x360 with 1 Axes>",
      "image/png": "[encoded data removed]"
     },
     "metadata": {},
     "output_type": "display_data"
    }
   ],
   "source": [
    "with sns.axes_style('whitegrid'):\n",
    "    plt.figure(figsize=(10, 5))\n",
    "    sns.barplot(data=df_to, x='name', y='count', hue='name', ci=None).set(ylabel='Кол-во вакансий', xlabel='Зарплата до')\n",
    "    plt.legend(title='Наибольшая зарплата')"
   ],
   "metadata": {
    "collapsed": false,
    "pycharm": {
     "name": "#%%\n"
    }
   }
  },
  {
   "cell_type": "markdown",
   "source": [
    "### Вывод:\n",
    "Судя по полученным данным, аналитикам необходимо владеть SQL, аналитическим мышлением, Python. На это указывает то, что эти навыки встречаются чаще всего в вакансиях.\n",
    "\n",
    "Зарплаты дата саентистов в среднем начинаются от 50000-100000 рублей и заканчиваются 100000-150000\n",
    "Скорее всего это зарплата Junior+ и Middle аналитиков, ибо высокие зарплаты встречаются сильно реже, они скорее для сеньоров. Конечно в учет не шли вакансии, в которых не была указана ЗП."
   ],
   "metadata": {
    "collapsed": false,
    "pycharm": {
     "name": "#%% md\n"
    }
   }
  },
  {
   "cell_type": "markdown",
   "metadata": {
    "pycharm": {
     "name": "#%% md\n"
    }
   },
   "source": [
    "Проведите аналогичный анализ для наиболее привлекательной для вас профессии в любом регионе. Если это Data Scientist, то для анализа выберите другую. В данном пункте спокойно можно сделать копипасту кода."
   ]
  },
  {
   "cell_type": "markdown",
   "source": [
    "Проведем Анализ для Game Designer в Москве"
   ],
   "metadata": {
    "collapsed": false,
    "pycharm": {
     "name": "#%% md\n"
    }
   }
  },
  {
   "cell_type": "code",
   "execution_count": 290,
   "metadata": {
    "pycharm": {
     "name": "#%%\n"
    }
   },
   "outputs": [
    {
     "data": {
      "text/plain": "         id  premium relations                              name  \\\n0  77085729    False        []                     Game Designer   \n1  77486329    False        []                Lead Game Designer   \n2  55593632    False        []    Game Designer на мобильную RTS   \n3  77653776    False        []  Middle/Senior Game Designer (VR)   \n4  77306624    False        []     Lead Game Designer / Producer   \n\n  insider_interview  response_letter_required  salary  address  \\\n0              None                     False     NaN      NaN   \n1              None                     False     NaN      NaN   \n2              None                     False     NaN      NaN   \n3              None                     False     NaN      NaN   \n4              None                      True     NaN      NaN   \n\n   allow_messages department  ... salary.gross address.metro  \\\n0            True       None  ...          NaN           NaN   \n1            True       None  ...          NaN           NaN   \n2            True       None  ...          NaN           NaN   \n3            True       None  ...          NaN           NaN   \n4            True       None  ...          NaN           NaN   \n\n  vacancy_constructor_template.id  vacancy_constructor_template.name  \\\n0                             NaN                                NaN   \n1                             NaN                                NaN   \n2                             NaN                                NaN   \n3                             NaN                                NaN   \n4                             NaN                                NaN   \n\n  vacancy_constructor_template.top_picture.height  \\\n0                                             NaN   \n1                                             NaN   \n2                                             NaN   \n3                                             NaN   \n4                                             NaN   \n\n   vacancy_constructor_template.top_picture.width  \\\n0                                             NaN   \n1                                             NaN   \n2                                             NaN   \n3                                             NaN   \n4                                             NaN   \n\n   vacancy_constructor_template.top_picture.path  \\\n0                                            NaN   \n1                                            NaN   \n2                                            NaN   \n3                                            NaN   \n4                                            NaN   \n\n   vacancy_constructor_template.top_picture.blurred_path  \\\n0                                                NaN       \n1                                                NaN       \n2                                                NaN       \n3                                                NaN       \n4                                                NaN       \n\n  vacancy_constructor_template.bottom_picture employer.logo_urls  \n0                                         NaN                NaN  \n1                                         NaN                NaN  \n2                                         NaN                NaN  \n3                                         NaN                NaN  \n4                                         NaN                NaN  \n\n[5 rows x 90 columns]",
      "text/html": "<div>\n<style scoped>\n    .dataframe tbody tr th:only-of-type {\n        vertical-align: middle;\n    }\n\n    .dataframe tbody tr th {\n        vertical-align: top;\n    }\n\n    .dataframe thead th {\n        text-align: right;\n    }\n</style>\n<table border=\"1\" class=\"dataframe\">\n  <thead>\n    <tr style=\"text-align: right;\">\n      <th></th>\n      <th>id</th>\n      <th>premium</th>\n      <th>relations</th>\n      <th>name</th>\n      <th>insider_interview</th>\n      <th>response_letter_required</th>\n      <th>salary</th>\n      <th>address</th>\n      <th>allow_messages</th>\n      <th>department</th>\n      <th>...</th>\n      <th>salary.gross</th>\n      <th>address.metro</th>\n      <th>vacancy_constructor_template.id</th>\n      <th>vacancy_constructor_template.name</th>\n      <th>vacancy_constructor_template.top_picture.height</th>\n      <th>vacancy_constructor_template.top_picture.width</th>\n      <th>vacancy_constructor_template.top_picture.path</th>\n      <th>vacancy_constructor_template.top_picture.blurred_path</th>\n      <th>vacancy_constructor_template.bottom_picture</th>\n      <th>employer.logo_urls</th>\n    </tr>\n  </thead>\n  <tbody>\n    <tr>\n      <th>0</th>\n      <td>77085729</td>\n      <td>False</td>\n      <td>[]</td>\n      <td>Game Designer</td>\n      <td>None</td>\n      <td>False</td>\n      <td>NaN</td>\n      <td>NaN</td>\n      <td>True</td>\n      <td>None</td>\n      <td>...</td>\n      <td>NaN</td>\n      <td>NaN</td>\n      <td>NaN</td>\n      <td>NaN</td>\n      <td>NaN</td>\n      <td>NaN</td>\n      <td>NaN</td>\n      <td>NaN</td>\n      <td>NaN</td>\n      <td>NaN</td>\n    </tr>\n    <tr>\n      <th>1</th>\n      <td>77486329</td>\n      <td>False</td>\n      <td>[]</td>\n      <td>Lead Game Designer</td>\n      <td>None</td>\n      <td>False</td>\n      <td>NaN</td>\n      <td>NaN</td>\n      <td>True</td>\n      <td>None</td>\n      <td>...</td>\n      <td>NaN</td>\n      <td>NaN</td>\n      <td>NaN</td>\n      <td>NaN</td>\n      <td>NaN</td>\n      <td>NaN</td>\n      <td>NaN</td>\n      <td>NaN</td>\n      <td>NaN</td>\n      <td>NaN</td>\n    </tr>\n    <tr>\n      <th>2</th>\n      <td>55593632</td>\n      <td>False</td>\n      <td>[]</td>\n      <td>Game Designer на мобильную RTS</td>\n      <td>None</td>\n      <td>False</td>\n      <td>NaN</td>\n      <td>NaN</td>\n      <td>True</td>\n      <td>None</td>\n      <td>...</td>\n      <td>NaN</td>\n      <td>NaN</td>\n      <td>NaN</td>\n      <td>NaN</td>\n      <td>NaN</td>\n      <td>NaN</td>\n      <td>NaN</td>\n      <td>NaN</td>\n      <td>NaN</td>\n      <td>NaN</td>\n    </tr>\n    <tr>\n      <th>3</th>\n      <td>77653776</td>\n      <td>False</td>\n      <td>[]</td>\n      <td>Middle/Senior Game Designer (VR)</td>\n      <td>None</td>\n      <td>False</td>\n      <td>NaN</td>\n      <td>NaN</td>\n      <td>True</td>\n      <td>None</td>\n      <td>...</td>\n      <td>NaN</td>\n      <td>NaN</td>\n      <td>NaN</td>\n      <td>NaN</td>\n      <td>NaN</td>\n      <td>NaN</td>\n      <td>NaN</td>\n      <td>NaN</td>\n      <td>NaN</td>\n      <td>NaN</td>\n    </tr>\n    <tr>\n      <th>4</th>\n      <td>77306624</td>\n      <td>False</td>\n      <td>[]</td>\n      <td>Lead Game Designer / Producer</td>\n      <td>None</td>\n      <td>True</td>\n      <td>NaN</td>\n      <td>NaN</td>\n      <td>True</td>\n      <td>None</td>\n      <td>...</td>\n      <td>NaN</td>\n      <td>NaN</td>\n      <td>NaN</td>\n      <td>NaN</td>\n      <td>NaN</td>\n      <td>NaN</td>\n      <td>NaN</td>\n      <td>NaN</td>\n      <td>NaN</td>\n      <td>NaN</td>\n    </tr>\n  </tbody>\n</table>\n<p>5 rows × 90 columns</p>\n</div>"
     },
     "execution_count": 290,
     "metadata": {},
     "output_type": "execute_result"
    }
   ],
   "source": [
    "# СОБИРАЕМ ДАННЫЕ\n",
    "data = []\n",
    "def getGameVacancies(page):\n",
    "    params = {\n",
    "        'text': '\\\"Game Designer\\\" OR \\\"Гейм дизайнер\\\" OR \\\"Игровой дизайнер\\\" OR \\\"Дизайнер игр\\\" OR \\\"Game Дизайнер\\\"',\n",
    "        'area': 1,\n",
    "        'page': page,\n",
    "        'per_page': 100\n",
    "    }\n",
    "    response = requests.get(url, params)\n",
    "    return json.loads(response.content.decode())\n",
    "\n",
    "res = getGameVacancies(0)\n",
    "data += res['items']\n",
    "for i in range(1, res['pages']):\n",
    "    data += getGameVacancies(i)['items']\n",
    "    time.sleep(1)\n",
    "\n",
    "# ИЗБАВЛЯЕМСЯ ОТ ДУБЛИКАТОВ\n",
    "seen = set()\n",
    "new_data = []\n",
    "for d in data:\n",
    "    id = int(d['id'])\n",
    "    if id not in seen:\n",
    "        seen.add(id)\n",
    "        new_data.append(d)\n",
    "\n",
    "# Создаем датафрейм с подробной инфой о вакансиях\n",
    "data = new_data\n",
    "data_table = []\n",
    "counter = 0\n",
    "\n",
    "for i in data:\n",
    "    response = requests.get(url + '/' + str(i['id']))\n",
    "    data_table.append(json.loads(response.content.decode()))\n",
    "    counter += 1\n",
    "    if counter % 30 == 0:\n",
    "        time.sleep(0.25)\n",
    "\n",
    "df = pd.json_normalize(data_table)\n",
    "df.head()"
   ]
  },
  {
   "cell_type": "markdown",
   "source": [
    "Найдем 15 самых востребованных навыков для указаной профессии"
   ],
   "metadata": {
    "collapsed": false,
    "pycharm": {
     "name": "#%% md\n"
    }
   }
  },
  {
   "cell_type": "code",
   "execution_count": 291,
   "outputs": [
    {
     "name": "stdout",
     "output_type": "stream",
     "text": [
      "Num of skills: 167\n",
      "Top 15 is:\n",
      " Unity Game Design Gamedev Разработка компьютерных Игр Креативность Adobe Photoshop Английский язык Unreal Engine 4 C# Грамотная речь Git Аналитическое мышление Работа в команде Unity 3D Game Programming\n"
     ]
    }
   ],
   "source": [
    "skills = set()\n",
    "\n",
    "for i in range(len(df)):\n",
    "    vacancy = df.iloc[i]\n",
    "    for skill in vacancy['key_skills']:\n",
    "        skills.add(skill['name'])\n",
    "skills = list(skills)\n",
    "\n",
    "skills_dict = {}\n",
    "for skill in skills:\n",
    "    skills_dict[skill] = 0\n",
    "    for i in range(len(df)):\n",
    "        if {'name': skill} in df.iloc[i]['key_skills']:\n",
    "            skills_dict[skill] += 1\n",
    "\n",
    "sorted_keys = sorted(skills_dict, key=skills_dict.get)\n",
    "sorted_keys.reverse()\n",
    "\n",
    "print(\"Num of skills:\", len(skills))\n",
    "print(\"Top 15 is:\\n\", *sorted_keys[:15])"
   ],
   "metadata": {
    "collapsed": false,
    "pycharm": {
     "name": "#%%\n"
    }
   }
  },
  {
   "cell_type": "code",
   "execution_count": 292,
   "outputs": [
    {
     "data": {
      "text/plain": "<Figure size 864x432 with 1 Axes>",
      "image/png": "[encoded data removed]"
     },
     "metadata": {},
     "output_type": "display_data"
    }
   ],
   "source": [
    "top_skills = list()\n",
    "ind = 0\n",
    "for key in sorted_keys[:15]:\n",
    "    top_skills.append(\n",
    "        {\n",
    "            'id': ind,\n",
    "            'name': key,\n",
    "            'count': skills_dict[key]\n",
    "        }\n",
    "    )\n",
    "    ind += 1\n",
    "df_skills = pd.json_normalize(top_skills)\n",
    "#print(df_skills.head())\n",
    "\n",
    "\n",
    "with sns.axes_style('whitegrid'):\n",
    "    plt.figure(figsize=(12, 6))\n",
    "    sns.barplot(data=df_skills, x='id', y='count', hue='name', ci=None).set(ylabel='Кол-во упоминаний', xlabel='Навык')\n",
    "    plt.legend(title='Навык', bbox_to_anchor=(1, 0.6))"
   ],
   "metadata": {
    "collapsed": false,
    "pycharm": {
     "name": "#%%\n"
    }
   }
  },
  {
   "cell_type": "markdown",
   "source": [
    "Курс валют взят на 03.03.2023"
   ],
   "metadata": {
    "collapsed": false,
    "pycharm": {
     "name": "#%% md\n"
    }
   }
  },
  {
   "cell_type": "code",
   "execution_count": 293,
   "outputs": [],
   "source": [
    "usd_rub = 75.52\n",
    "eur_rub = 80.09\n",
    "max_salary = 0\n",
    "min_salary = 0\n",
    "tax = 0.13\n",
    "df_tmp = df.dropna(axis='index', how='any', subset=['salary.gross'])\n",
    "df_max_salary = df_tmp.groupby(by=['salary.currency']).max(['salary.from', 'salary.to'])\n",
    "df_min_salary = df_tmp.groupby(by=['salary.currency']).min(['salary.from', 'salary.to'])"
   ],
   "metadata": {
    "collapsed": false,
    "pycharm": {
     "name": "#%%\n"
    }
   }
  },
  {
   "cell_type": "markdown",
   "source": [
    "Определяем минимальную и максимальную зарплаты, чтобы заполнить ими пустоты"
   ],
   "metadata": {
    "collapsed": false,
    "pycharm": {
     "name": "#%% md\n"
    }
   }
  },
  {
   "cell_type": "code",
   "execution_count": 294,
   "outputs": [
    {
     "name": "stdout",
     "output_type": "stream",
     "text": [
      "500.0 320360.0\n"
     ]
    }
   ],
   "source": [
    "# Находим самую максимальную зарплату\n",
    "for i in range(len(df_max_salary)):\n",
    "    has_tax = !df_max_salary.iloc[i]['salary.gross']\n",
    "    curr = df_max_salary.index[df_max_salary['salary.to'] == df_max_salary.iloc[i]['salary.to']].values[0]\n",
    "    if curr == 'USD':\n",
    "        if has_tax is False:\n",
    "            salary = (usd_rub * df_max_salary.iloc[i]['salary.to']) - (usd_rub * df_max_salary.iloc[i]['salary.to'] * tax)\n",
    "        else:\n",
    "            salary = usd_rub * df_max_salary.iloc[i]['salary.to']\n",
    "    if curr == 'EUR':\n",
    "        if has_tax is False:\n",
    "            salary = (eur_rub * df_max_salary.iloc[i]['salary.to']) - (eur_rub * df_max_salary.iloc[i]['salary.to'] * tax)\n",
    "        else:\n",
    "            salary = eur_rub * df_max_salary.iloc[i]['salary.to']\n",
    "    else:\n",
    "        if has_tax is False:\n",
    "            salary = df_max_salary.iloc[i]['salary.to'] - df_max_salary.iloc[i]['salary.to'] * tax\n",
    "        else:\n",
    "            salary = df_max_salary.iloc[i]['salary.to']\n",
    "    if salary > max_salary:\n",
    "        max_salary = salary\n",
    "\n",
    "min_salary = max_salary\n",
    "\n",
    "# Находим самую минимальную зарплату\n",
    "for i in range(len(df_min_salary)):\n",
    "    has_tax = !df_min_salary.iloc[i]['salary.gross']\n",
    "    curr = df_min_salary.index[df_min_salary['salary.from'] == df_min_salary.iloc[i]['salary.from']].values[0]\n",
    "    if curr == 'USD':\n",
    "        if has_tax is False:\n",
    "            salary = (usd_rub * df_min_salary.iloc[i]['salary.from']) - (usd_rub * df_min_salary.iloc[i]['salary.from'] * tax)\n",
    "        else:\n",
    "            salary = usd_rub * df_min_salary.iloc[i]['salary.from']\n",
    "    if curr == 'EUR':\n",
    "        if has_tax is False:\n",
    "            salary = (eur_rub * df_min_salary.iloc[i]['salary.from']) - (eur_rub * df_min_salary.iloc[i]['salary.from'] * tax)\n",
    "        else:\n",
    "            salary = eur_rub * df_min_salary.iloc[i]['salary.from']\n",
    "    else:\n",
    "        if has_tax is False:\n",
    "            salary = df_min_salary.iloc[i]['salary.from'] - df_min_salary.iloc[i]['salary.from'] * tax\n",
    "        else:\n",
    "            salary = df_min_salary.iloc[i]['salary.from']\n",
    "    if salary < min_salary:\n",
    "        min_salary = salary\n",
    "\n",
    "print(min_salary, max_salary)"
   ],
   "metadata": {
    "collapsed": false,
    "pycharm": {
     "name": "#%%\n"
    }
   }
  },
  {
   "cell_type": "markdown",
   "source": [
    "Приведем зарплаты к одной валюте и будем учитывать их с вычетом налогов"
   ],
   "metadata": {
    "collapsed": false,
    "pycharm": {
     "name": "#%% md\n"
    }
   }
  },
  {
   "cell_type": "code",
   "execution_count": 295,
   "outputs": [
    {
     "name": "stderr",
     "output_type": "stream",
     "text": [
      "C:\\Users\\Daler Hojimatov\\anaconda3\\lib\\site-packages\\pandas\\core\\indexing.py:1817: SettingWithCopyWarning: \n",
      "A value is trying to be set on a copy of a slice from a DataFrame.\n",
      "Try using .loc[row_indexer,col_indexer] = value instead\n",
      "\n",
      "See the caveats in the documentation: https://pandas.pydata.org/pandas-docs/stable/user_guide/indexing.html#returning-a-view-versus-a-copy\n",
      "  self._setitem_single_column(loc, value, pi)\n"
     ]
    },
    {
     "data": {
      "text/plain": "          id  premium relations  \\\n10  75725251    False        []   \n11  77025198    False        []   \n13  77354452    False        []   \n18  77423757    False        []   \n23  77364406    False        []   \n\n                                                 name insider_interview  \\\n10                      Game Designer (Middle\\Senior)              None   \n11                       Креатор / Гейм-дизайнер (AR)              None   \n13      Game designer — Hyper casual games (Limassol)              None   \n18                           Гейм-дизайнер (удаленно)              None   \n23  Unity Game Designer на гиперказуальные проекты...              None   \n\n    response_letter_required  salary  address  allow_messages department  ...  \\\n10                     False     NaN      NaN            True       None  ...   \n11                     False     NaN      NaN            True       None  ...   \n13                     False     NaN      NaN            True       None  ...   \n18                     False     NaN      NaN            True       None  ...   \n23                     False     NaN      NaN            True       None  ...   \n\n   salary.gross address.metro vacancy_constructor_template.id  \\\n10        False           NaN                             NaN   \n11        False           NaN                             NaN   \n13        False           NaN                             NaN   \n18        False           NaN                             NaN   \n23        False           NaN                             NaN   \n\n    vacancy_constructor_template.name  \\\n10                                NaN   \n11                                NaN   \n13                                NaN   \n18                                NaN   \n23                                NaN   \n\n   vacancy_constructor_template.top_picture.height  \\\n10                                             NaN   \n11                                             NaN   \n13                                             NaN   \n18                                             NaN   \n23                                             NaN   \n\n    vacancy_constructor_template.top_picture.width  \\\n10                                             NaN   \n11                                             NaN   \n13                                             NaN   \n18                                             NaN   \n23                                             NaN   \n\n    vacancy_constructor_template.top_picture.path  \\\n10                                            NaN   \n11                                            NaN   \n13                                            NaN   \n18                                            NaN   \n23                                            NaN   \n\n    vacancy_constructor_template.top_picture.blurred_path  \\\n10                                                NaN       \n11                                                NaN       \n13                                                NaN       \n18                                                NaN       \n23                                                NaN       \n\n   vacancy_constructor_template.bottom_picture employer.logo_urls  \n10                                         NaN                NaN  \n11                                         NaN                NaN  \n13                                         NaN                NaN  \n18                                         NaN                NaN  \n23                                         NaN                NaN  \n\n[5 rows x 90 columns]",
      "text/html": "<div>\n<style scoped>\n    .dataframe tbody tr th:only-of-type {\n        vertical-align: middle;\n    }\n\n    .dataframe tbody tr th {\n        vertical-align: top;\n    }\n\n    .dataframe thead th {\n        text-align: right;\n    }\n</style>\n<table border=\"1\" class=\"dataframe\">\n  <thead>\n    <tr style=\"text-align: right;\">\n      <th></th>\n      <th>id</th>\n      <th>premium</th>\n      <th>relations</th>\n      <th>name</th>\n      <th>insider_interview</th>\n      <th>response_letter_required</th>\n      <th>salary</th>\n      <th>address</th>\n      <th>allow_messages</th>\n      <th>department</th>\n      <th>...</th>\n      <th>salary.gross</th>\n      <th>address.metro</th>\n      <th>vacancy_constructor_template.id</th>\n      <th>vacancy_constructor_template.name</th>\n      <th>vacancy_constructor_template.top_picture.height</th>\n      <th>vacancy_constructor_template.top_picture.width</th>\n      <th>vacancy_constructor_template.top_picture.path</th>\n      <th>vacancy_constructor_template.top_picture.blurred_path</th>\n      <th>vacancy_constructor_template.bottom_picture</th>\n      <th>employer.logo_urls</th>\n    </tr>\n  </thead>\n  <tbody>\n    <tr>\n      <th>10</th>\n      <td>75725251</td>\n      <td>False</td>\n      <td>[]</td>\n      <td>Game Designer (Middle\\Senior)</td>\n      <td>None</td>\n      <td>False</td>\n      <td>NaN</td>\n      <td>NaN</td>\n      <td>True</td>\n      <td>None</td>\n      <td>...</td>\n      <td>False</td>\n      <td>NaN</td>\n      <td>NaN</td>\n      <td>NaN</td>\n      <td>NaN</td>\n      <td>NaN</td>\n      <td>NaN</td>\n      <td>NaN</td>\n      <td>NaN</td>\n      <td>NaN</td>\n    </tr>\n    <tr>\n      <th>11</th>\n      <td>77025198</td>\n      <td>False</td>\n      <td>[]</td>\n      <td>Креатор / Гейм-дизайнер (AR)</td>\n      <td>None</td>\n      <td>False</td>\n      <td>NaN</td>\n      <td>NaN</td>\n      <td>True</td>\n      <td>None</td>\n      <td>...</td>\n      <td>False</td>\n      <td>NaN</td>\n      <td>NaN</td>\n      <td>NaN</td>\n      <td>NaN</td>\n      <td>NaN</td>\n      <td>NaN</td>\n      <td>NaN</td>\n      <td>NaN</td>\n      <td>NaN</td>\n    </tr>\n    <tr>\n      <th>13</th>\n      <td>77354452</td>\n      <td>False</td>\n      <td>[]</td>\n      <td>Game designer — Hyper casual games (Limassol)</td>\n      <td>None</td>\n      <td>False</td>\n      <td>NaN</td>\n      <td>NaN</td>\n      <td>True</td>\n      <td>None</td>\n      <td>...</td>\n      <td>False</td>\n      <td>NaN</td>\n      <td>NaN</td>\n      <td>NaN</td>\n      <td>NaN</td>\n      <td>NaN</td>\n      <td>NaN</td>\n      <td>NaN</td>\n      <td>NaN</td>\n      <td>NaN</td>\n    </tr>\n    <tr>\n      <th>18</th>\n      <td>77423757</td>\n      <td>False</td>\n      <td>[]</td>\n      <td>Гейм-дизайнер (удаленно)</td>\n      <td>None</td>\n      <td>False</td>\n      <td>NaN</td>\n      <td>NaN</td>\n      <td>True</td>\n      <td>None</td>\n      <td>...</td>\n      <td>False</td>\n      <td>NaN</td>\n      <td>NaN</td>\n      <td>NaN</td>\n      <td>NaN</td>\n      <td>NaN</td>\n      <td>NaN</td>\n      <td>NaN</td>\n      <td>NaN</td>\n      <td>NaN</td>\n    </tr>\n    <tr>\n      <th>23</th>\n      <td>77364406</td>\n      <td>False</td>\n      <td>[]</td>\n      <td>Unity Game Designer на гиперказуальные проекты...</td>\n      <td>None</td>\n      <td>False</td>\n      <td>NaN</td>\n      <td>NaN</td>\n      <td>True</td>\n      <td>None</td>\n      <td>...</td>\n      <td>False</td>\n      <td>NaN</td>\n      <td>NaN</td>\n      <td>NaN</td>\n      <td>NaN</td>\n      <td>NaN</td>\n      <td>NaN</td>\n      <td>NaN</td>\n      <td>NaN</td>\n      <td>NaN</td>\n    </tr>\n  </tbody>\n</table>\n<p>5 rows × 90 columns</p>\n</div>"
     },
     "execution_count": 295,
     "metadata": {},
     "output_type": "execute_result"
    }
   ],
   "source": [
    "for i, row in df_tmp.iterrows():\n",
    "    if row['salary.currency'] == 'USD':\n",
    "        if pd.isnull(row['salary.from']):\n",
    "            df_tmp.loc[i, ('salary.from',)] = min_salary\n",
    "        else:\n",
    "            if row['salary.gross']:\n",
    "                df_tmp.loc[i, ('salary.from',)] = (row['salary.from'] * usd_rub) - (row['salary.from'] * usd_rub * tax)\n",
    "            else:\n",
    "                df_tmp.loc[i, ('salary.from',)] = row['salary.from'] * usd_rub\n",
    "        if pd.isnull(row['salary.to']):\n",
    "            df_tmp.loc[i, ('salary.to',)] = max_salary\n",
    "        else:\n",
    "            if row['salary.gross']:\n",
    "                df_tmp.loc[i, ('salary.to',)] = (row['salary.to'] * usd_rub) - (row['salary.to'] * usd_rub * tax)\n",
    "            else:\n",
    "                df_tmp.loc[i, ('salary.to',)] = row['salary.to'] * usd_rub\n",
    "\n",
    "    elif row['salary.currency'] == 'EUR':\n",
    "        if pd.isnull(row['salary.from']):\n",
    "            df_tmp.loc[i, ('salary.from',)] = min_salary\n",
    "        else:\n",
    "            if row['salary.gross']:\n",
    "                df_tmp.loc[i, ('salary.from',)] = (row['salary.from'] * eur_rub) - (row['salary.from'] * eur_rub * tax)\n",
    "            else:\n",
    "                df_tmp.loc[i, ('salary.from',)] = row['salary.from'] * eur_rub\n",
    "        if pd.isnull(row['salary.to']):\n",
    "            df_tmp.loc[i, ('salary.to',)] = max_salary\n",
    "        else:\n",
    "            if row['salary.gross']:\n",
    "                df_tmp.loc[i, ('salary.to',)] = (row['salary.to'] * eur_rub) - (row['salary.to'] * eur_rub * tax)\n",
    "            else:\n",
    "                df_tmp.loc[i, ('salary.to',)] = row['salary.to'] * eur_rub\n",
    "\n",
    "    else:\n",
    "        if pd.isnull(row['salary.from']):\n",
    "            df_tmp.loc[i, ('salary.from',)] = min_salary\n",
    "        else:\n",
    "            if row['salary.gross']:\n",
    "                df_tmp.loc[i, ('salary.from',)] = row['salary.from'] - row['salary.from'] * tax\n",
    "        if pd.isnull(row['salary.to']):\n",
    "            df_tmp.loc[i, ('salary.to',)] = max_salary\n",
    "        else:\n",
    "            if row['salary.gross']:\n",
    "                df_tmp.loc[i, ('salary.to',)] = row['salary.to'] - row['salary.to'] * tax\n",
    "\n",
    "df_tmp.head()"
   ],
   "metadata": {
    "collapsed": false,
    "pycharm": {
     "name": "#%%\n"
    }
   }
  },
  {
   "cell_type": "markdown",
   "source": [
    "Создадим таблицу для минимальных зарплат, по ней построим график"
   ],
   "metadata": {
    "collapsed": false,
    "pycharm": {
     "name": "#%% md\n"
    }
   }
  },
  {
   "cell_type": "code",
   "execution_count": 296,
   "outputs": [
    {
     "data": {
      "text/plain": "              name  count\n0        0 - 50000      4\n1   50000 - 100000      5\n2  100000 - 150000      2\n3  150000 - 200000      2",
      "text/html": "<div>\n<style scoped>\n    .dataframe tbody tr th:only-of-type {\n        vertical-align: middle;\n    }\n\n    .dataframe tbody tr th {\n        vertical-align: top;\n    }\n\n    .dataframe thead th {\n        text-align: right;\n    }\n</style>\n<table border=\"1\" class=\"dataframe\">\n  <thead>\n    <tr style=\"text-align: right;\">\n      <th></th>\n      <th>name</th>\n      <th>count</th>\n    </tr>\n  </thead>\n  <tbody>\n    <tr>\n      <th>0</th>\n      <td>0 - 50000</td>\n      <td>4</td>\n    </tr>\n    <tr>\n      <th>1</th>\n      <td>50000 - 100000</td>\n      <td>5</td>\n    </tr>\n    <tr>\n      <th>2</th>\n      <td>100000 - 150000</td>\n      <td>2</td>\n    </tr>\n    <tr>\n      <th>3</th>\n      <td>150000 - 200000</td>\n      <td>2</td>\n    </tr>\n  </tbody>\n</table>\n</div>"
     },
     "execution_count": 296,
     "metadata": {},
     "output_type": "execute_result"
    }
   ],
   "source": [
    "m = df_tmp['salary.from'].max()\n",
    "df_from = []\n",
    "froms = pd.DataFrame(df_tmp.groupby(by=['salary.from']).count()['name'])\n",
    "\n",
    "for i in range(int(m / 50000)):\n",
    "    df_from.append({'name': f'{i * 50000} - {i * 50000 + 50000}', 'count': 0})\n",
    "\n",
    "for i, row in froms.iterrows():\n",
    "    for j in range(int(m / 50000)):\n",
    "        if i <= j * 50000.0 + 50000.0:\n",
    "            df_from[j]['count'] += row['name']\n",
    "            break\n",
    "\n",
    "df_from = pd.json_normalize(df_from)\n",
    "df_from"
   ],
   "metadata": {
    "collapsed": false,
    "pycharm": {
     "name": "#%%\n"
    }
   }
  },
  {
   "cell_type": "markdown",
   "source": [
    "Создадим табличку для максимальных зарплат, по ней построим график"
   ],
   "metadata": {
    "collapsed": false,
    "pycharm": {
     "name": "#%% md\n"
    }
   }
  },
  {
   "cell_type": "code",
   "execution_count": 297,
   "outputs": [
    {
     "data": {
      "text/plain": "              name  count\n0        0 - 50000      1\n1   50000 - 100000      1\n2  100000 - 150000      2\n3  150000 - 200000      1\n4  200000 - 250000      3\n5  250000 - 300000      1",
      "text/html": "<div>\n<style scoped>\n    .dataframe tbody tr th:only-of-type {\n        vertical-align: middle;\n    }\n\n    .dataframe tbody tr th {\n        vertical-align: top;\n    }\n\n    .dataframe thead th {\n        text-align: right;\n    }\n</style>\n<table border=\"1\" class=\"dataframe\">\n  <thead>\n    <tr style=\"text-align: right;\">\n      <th></th>\n      <th>name</th>\n      <th>count</th>\n    </tr>\n  </thead>\n  <tbody>\n    <tr>\n      <th>0</th>\n      <td>0 - 50000</td>\n      <td>1</td>\n    </tr>\n    <tr>\n      <th>1</th>\n      <td>50000 - 100000</td>\n      <td>1</td>\n    </tr>\n    <tr>\n      <th>2</th>\n      <td>100000 - 150000</td>\n      <td>2</td>\n    </tr>\n    <tr>\n      <th>3</th>\n      <td>150000 - 200000</td>\n      <td>1</td>\n    </tr>\n    <tr>\n      <th>4</th>\n      <td>200000 - 250000</td>\n      <td>3</td>\n    </tr>\n    <tr>\n      <th>5</th>\n      <td>250000 - 300000</td>\n      <td>1</td>\n    </tr>\n  </tbody>\n</table>\n</div>"
     },
     "execution_count": 297,
     "metadata": {},
     "output_type": "execute_result"
    }
   ],
   "source": [
    "m = df_tmp['salary.to'].max()\n",
    "df_to = []\n",
    "tos = pd.DataFrame(df_tmp.groupby(by=['salary.to']).count()['name'])\n",
    "\n",
    "for i in range(int(m / 50000)):\n",
    "    df_to.append({'name': f'{i * 50000} - {i * 50000 + 50000}', 'count': 0})\n",
    "\n",
    "for i, row in tos.iterrows():\n",
    "    for j in range(int(m / 50000)):\n",
    "        if i <= j * 50000.0 + 50000.0:\n",
    "            df_to[j]['count'] += row['name']\n",
    "            break\n",
    "\n",
    "df_to = pd.json_normalize(df_to)\n",
    "df_to"
   ],
   "metadata": {
    "collapsed": false,
    "pycharm": {
     "name": "#%%\n"
    }
   }
  },
  {
   "cell_type": "code",
   "execution_count": 298,
   "outputs": [
    {
     "data": {
      "text/plain": "<Figure size 720x360 with 1 Axes>",
      "image/png": "[encoded data removed]"
     },
     "metadata": {},
     "output_type": "display_data"
    }
   ],
   "source": [
    "with sns.axes_style('whitegrid'):\n",
    "    plt.figure(figsize=(10, 5))\n",
    "    sns.barplot(data=df_from, x='name', y='count', hue='name', ci=None).set(ylabel='Кол-во вакансий', xlabel='Зарплата от')\n",
    "    plt.legend(title='Наименьшая зарплата')"
   ],
   "metadata": {
    "collapsed": false,
    "pycharm": {
     "name": "#%%\n"
    }
   }
  },
  {
   "cell_type": "code",
   "execution_count": 299,
   "outputs": [
    {
     "data": {
      "text/plain": "<Figure size 720x360 with 1 Axes>",
      "image/png": "[encoded data removed]"
     },
     "metadata": {},
     "output_type": "display_data"
    }
   ],
   "source": [
    "with sns.axes_style('whitegrid'):\n",
    "    plt.figure(figsize=(10, 5))\n",
    "    sns.barplot(data=df_to, x='name', y='count', hue='name', ci=None).set(ylabel='Кол-во вакансий', xlabel='Зарплата до')\n",
    "    plt.legend(title='Наибольшая зарплата')"
   ],
   "metadata": {
    "collapsed": false,
    "pycharm": {
     "name": "#%%\n"
    }
   }
  },
  {
   "cell_type": "markdown",
   "metadata": {
    "pycharm": {
     "name": "#%% md\n"
    }
   },
   "source": [
    "Не забывайте про выводы."
   ]
  },
  {
   "cell_type": "markdown",
   "source": [
    "## Вывод:\n",
    "Судя по полученным данным, кандидату на должность гейм дизайнера необходимо быть знакомым с одним из игровых движков (Без этого никуда, а где иначе работать), быть креативным (куда же без этого в творческом деле), знать английский (Ну игрушки нынче должны быть на английском), знать C# (думаю не только его, но он в гейм деве считается базовым).\n",
    "\n",
    "На сайте hh.ru в вакансиях на гейм дизайнера редко (очень редко) указывается размер заработной платы, но исходя из того, что имеем, можно сказать, что гейм дизайнер в среднем зарабатывает больше аналитика. Нижне пороговые зарплаты у них приблизительно равны, а вот верхне пороговые сильно различаются, 100-150тыс. у аналитиков и 200-250тыс. у гейм дизайнеров.\n",
    "\n",
    "В отличие от аналитиков у игровых дизайнеров встречаются зарплаты в евро, скорее всего их работа более интернациональна и заказчик чаще иностранная компания, многие российские компании не создают игры сами, а делают это на аутсорс для иностранных компаний."
   ],
   "metadata": {
    "collapsed": false,
    "pycharm": {
     "name": "#%% md\n"
    }
   }
  },
  {
   "cell_type": "markdown",
   "metadata": {
    "pycharm": {
     "name": "#%% md\n"
    }
   },
   "source": [
    "\n",
    "---\n",
    "### <font color=\"orange\"><i>Сложная часть</i></font>\n",
    "\n",
    "### Задача 2.   \n",
    "\n",
    "Для *одной* из рассмотренных ранее профессий ответьте на следующие вопросы:  \n",
    "- Какой опыт требуется для данной вакансии?\n",
    "- Какие работодатели в топе? \n",
    "- В каком районе Москвы данная вакансия пользуется наибольшим и наименьшим спросом?\n",
    "\n",
    "Не забудьте про визуализацию, в частности, постройте распределений вакансий на карте.\n",
    "\n",
    "*Напоминание.* Работа в некоторой степени творческая, поэтому конкретные детали решения в основном остаются на усмотрение автора решения.\n"
   ]
  },
  {
   "cell_type": "code",
   "execution_count": null,
   "metadata": {
    "pycharm": {
     "name": "#%%\n"
    }
   },
   "outputs": [],
   "source": [
    "..."
   ]
  },
  {
   "cell_type": "markdown",
   "metadata": {
    "pycharm": {
     "name": "#%% md\n"
    }
   },
   "source": [
    "Какие выводы можно сделать из построенных графиков?\n",
    "\n",
    "<...>"
   ]
  }
 ],
 "metadata": {
  "colab": {
   "collapsed_sections": [],
   "name": "stats.ipynb",
   "provenance": [],
   "version": "0.3.2"
  },
  "kernelspec": {
   "display_name": "Python 3",
   "language": "python",
   "name": "python3"
  },
  "language_info": {
   "codemirror_mode": {
    "name": "ipython",
    "version": 3
   },
   "file_extension": ".py",
   "mimetype": "text/x-python",
   "name": "python",
   "nbconvert_exporter": "python",
   "pygments_lexer": "ipython3",
   "version": "3.8.10"
  }
 },
 "nbformat": 4,
 "nbformat_minor": 1
}